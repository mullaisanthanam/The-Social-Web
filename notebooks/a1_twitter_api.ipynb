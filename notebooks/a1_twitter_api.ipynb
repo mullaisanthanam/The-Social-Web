{
 "cells": [
  {
   "cell_type": "markdown",
   "metadata": {},
   "source": [
    "*****************************************************************\n",
    "#  The Social Web \n",
    "- Instructors: Davide Ceolin.\n",
    "- TAs: Jacco van Ossenbruggen, Elena Beretta, Mirthe Dankloff.\n",
    "- Exercises for Hands-on session 1- TAs: Jacco van Ossenbruggen, Elena Beretta, Mirthe Dankloff.\n",
    "*****************************************************************"
   ]
  },
  {
   "cell_type": "markdown",
   "metadata": {},
   "source": [
    "Prerequisites:\n",
    "- Python 3.8\n",
    "- Python packages: twitter, prettytable, matplotlib\n",
    "\n",
    "First you need to know how to retrieve some social web data. Exercises 1 and 2 will show you how to retrieve trends and search results from Twitter. \n",
    "\n",
    "But let's check first if we're running a sufficiently new version of Python:"
   ]
  },
  {
   "cell_type": "code",
   "execution_count": 1,
   "metadata": {},
   "outputs": [
    {
     "name": "stdout",
     "output_type": "stream",
     "text": [
      "This jupyter notebook is running on Python 3.8.10\n"
     ]
    }
   ],
   "source": [
    "import platform\n",
    "import sys\n",
    "print(\"This jupyter notebook is running on Python \" + platform.python_version())\n",
    "# It's good practice to assert packages requirements at the beginning of a script:\n",
    "assert sys.version_info >= (3, 6)"
   ]
  },
  {
   "cell_type": "markdown",
   "metadata": {},
   "source": [
    "Let's install now the required packages for this hands on session:"
   ]
  },
  {
   "cell_type": "code",
   "execution_count": 2,
   "metadata": {},
   "outputs": [
    {
     "name": "stdout",
     "output_type": "stream",
     "text": [
      "Requirement already satisfied: python-twitter-v2 in /Library/Frameworks/Python.framework/Versions/3.8/lib/python3.8/site-packages (0.7.9)\n",
      "Requirement already satisfied: PrettyTable in /Library/Frameworks/Python.framework/Versions/3.8/lib/python3.8/site-packages (3.5.0)\n",
      "Requirement already satisfied: matplotlib in /Library/Frameworks/Python.framework/Versions/3.8/lib/python3.8/site-packages (3.6.2)\n",
      "Requirement already satisfied: geocoder in /Library/Frameworks/Python.framework/Versions/3.8/lib/python3.8/site-packages (1.38.1)\n",
      "Requirement already satisfied: tweepy in /Library/Frameworks/Python.framework/Versions/3.8/lib/python3.8/site-packages (4.12.1)\n",
      "Requirement already satisfied: dataclasses-json<0.6.0,>=0.5.2 in /Library/Frameworks/Python.framework/Versions/3.8/lib/python3.8/site-packages (from python-twitter-v2) (0.5.7)\n",
      "Requirement already satisfied: requests<3.0,>=2.24 in /Library/Frameworks/Python.framework/Versions/3.8/lib/python3.8/site-packages (from python-twitter-v2) (2.28.1)\n",
      "Requirement already satisfied: Authlib<0.16.0,>=0.15.4 in /Library/Frameworks/Python.framework/Versions/3.8/lib/python3.8/site-packages (from python-twitter-v2) (0.15.6)\n",
      "Requirement already satisfied: cryptography in /Library/Frameworks/Python.framework/Versions/3.8/lib/python3.8/site-packages (from Authlib<0.16.0,>=0.15.4->python-twitter-v2) (38.0.3)\n",
      "Requirement already satisfied: typing-inspect>=0.4.0 in /Library/Frameworks/Python.framework/Versions/3.8/lib/python3.8/site-packages (from dataclasses-json<0.6.0,>=0.5.2->python-twitter-v2) (0.8.0)\n",
      "Requirement already satisfied: marshmallow<4.0.0,>=3.3.0 in /Library/Frameworks/Python.framework/Versions/3.8/lib/python3.8/site-packages (from dataclasses-json<0.6.0,>=0.5.2->python-twitter-v2) (3.18.0)\n",
      "Requirement already satisfied: marshmallow-enum<2.0.0,>=1.5.1 in /Library/Frameworks/Python.framework/Versions/3.8/lib/python3.8/site-packages (from dataclasses-json<0.6.0,>=0.5.2->python-twitter-v2) (1.5.1)\n",
      "Requirement already satisfied: packaging>=17.0 in /Library/Frameworks/Python.framework/Versions/3.8/lib/python3.8/site-packages (from marshmallow<4.0.0,>=3.3.0->dataclasses-json<0.6.0,>=0.5.2->python-twitter-v2) (21.3)\n",
      "Requirement already satisfied: pyparsing!=3.0.5,>=2.0.2 in /Library/Frameworks/Python.framework/Versions/3.8/lib/python3.8/site-packages (from packaging>=17.0->marshmallow<4.0.0,>=3.3.0->dataclasses-json<0.6.0,>=0.5.2->python-twitter-v2) (3.0.9)\n",
      "Requirement already satisfied: charset-normalizer<3,>=2 in /Library/Frameworks/Python.framework/Versions/3.8/lib/python3.8/site-packages (from requests<3.0,>=2.24->python-twitter-v2) (2.1.1)\n",
      "Requirement already satisfied: urllib3<1.27,>=1.21.1 in /Library/Frameworks/Python.framework/Versions/3.8/lib/python3.8/site-packages (from requests<3.0,>=2.24->python-twitter-v2) (1.26.12)\n",
      "Requirement already satisfied: certifi>=2017.4.17 in /Library/Frameworks/Python.framework/Versions/3.8/lib/python3.8/site-packages (from requests<3.0,>=2.24->python-twitter-v2) (2022.9.24)\n",
      "Requirement already satisfied: idna<4,>=2.5 in /Library/Frameworks/Python.framework/Versions/3.8/lib/python3.8/site-packages (from requests<3.0,>=2.24->python-twitter-v2) (3.4)\n",
      "Requirement already satisfied: typing-extensions>=3.7.4 in /Library/Frameworks/Python.framework/Versions/3.8/lib/python3.8/site-packages (from typing-inspect>=0.4.0->dataclasses-json<0.6.0,>=0.5.2->python-twitter-v2) (4.4.0)\n",
      "Requirement already satisfied: mypy-extensions>=0.3.0 in /Library/Frameworks/Python.framework/Versions/3.8/lib/python3.8/site-packages (from typing-inspect>=0.4.0->dataclasses-json<0.6.0,>=0.5.2->python-twitter-v2) (0.4.3)\n",
      "Requirement already satisfied: wcwidth in /Library/Frameworks/Python.framework/Versions/3.8/lib/python3.8/site-packages (from PrettyTable) (0.2.5)\n",
      "Requirement already satisfied: python-dateutil>=2.7 in /Library/Frameworks/Python.framework/Versions/3.8/lib/python3.8/site-packages (from matplotlib) (2.8.2)\n",
      "Requirement already satisfied: kiwisolver>=1.0.1 in /Library/Frameworks/Python.framework/Versions/3.8/lib/python3.8/site-packages (from matplotlib) (1.4.4)\n",
      "Requirement already satisfied: numpy>=1.19 in /Library/Frameworks/Python.framework/Versions/3.8/lib/python3.8/site-packages (from matplotlib) (1.23.4)\n",
      "Requirement already satisfied: pillow>=6.2.0 in /Library/Frameworks/Python.framework/Versions/3.8/lib/python3.8/site-packages (from matplotlib) (9.3.0)\n",
      "Requirement already satisfied: contourpy>=1.0.1 in /Library/Frameworks/Python.framework/Versions/3.8/lib/python3.8/site-packages (from matplotlib) (1.0.6)\n",
      "Requirement already satisfied: fonttools>=4.22.0 in /Library/Frameworks/Python.framework/Versions/3.8/lib/python3.8/site-packages (from matplotlib) (4.38.0)\n",
      "Requirement already satisfied: cycler>=0.10 in /Library/Frameworks/Python.framework/Versions/3.8/lib/python3.8/site-packages (from matplotlib) (0.11.0)\n",
      "Requirement already satisfied: six>=1.5 in /Library/Frameworks/Python.framework/Versions/3.8/lib/python3.8/site-packages (from python-dateutil>=2.7->matplotlib) (1.16.0)\n",
      "Requirement already satisfied: future in /Library/Frameworks/Python.framework/Versions/3.8/lib/python3.8/site-packages (from geocoder) (0.18.2)\n",
      "Requirement already satisfied: ratelim in /Library/Frameworks/Python.framework/Versions/3.8/lib/python3.8/site-packages (from geocoder) (0.1.6)\n",
      "Requirement already satisfied: click in /Library/Frameworks/Python.framework/Versions/3.8/lib/python3.8/site-packages (from geocoder) (8.1.3)\n",
      "Requirement already satisfied: oauthlib<4,>=3.2.0 in /Library/Frameworks/Python.framework/Versions/3.8/lib/python3.8/site-packages (from tweepy) (3.2.2)\n",
      "Requirement already satisfied: requests-oauthlib<2,>=1.2.0 in /Library/Frameworks/Python.framework/Versions/3.8/lib/python3.8/site-packages (from tweepy) (1.3.1)\n",
      "Requirement already satisfied: cffi>=1.12 in /Library/Frameworks/Python.framework/Versions/3.8/lib/python3.8/site-packages (from cryptography->Authlib<0.16.0,>=0.15.4->python-twitter-v2) (1.15.1)\n",
      "Requirement already satisfied: pycparser in /Library/Frameworks/Python.framework/Versions/3.8/lib/python3.8/site-packages (from cffi>=1.12->cryptography->Authlib<0.16.0,>=0.15.4->python-twitter-v2) (2.21)\n",
      "Requirement already satisfied: decorator in /Library/Frameworks/Python.framework/Versions/3.8/lib/python3.8/site-packages (from ratelim->geocoder) (5.1.1)\n",
      "\u001b[33mWARNING: You are using pip version 21.1.1; however, version 22.3 is available.\n",
      "You should consider upgrading via the '/Library/Frameworks/Python.framework/Versions/3.8/bin/python3.8 -m pip install --upgrade pip' command.\u001b[0m\n"
     ]
    }
   ],
   "source": [
    "# If you're using a virtualenv, make sure its activated before running \n",
    "# this cell!\n",
    "!pip3 install python-twitter-v2 PrettyTable matplotlib geocoder tweepy"
   ]
  },
  {
   "cell_type": "markdown",
   "metadata": {},
   "source": [
    "## Part 1: Authorizing an application to access Twitter account data:\n",
    "\n",
    "1. Make sure to add your mobile phone number to your private twitter profile.\n",
    "2. Go to https://developer.twitter.com/en/portal/dashboard and click on \"create an app\". Twitter will prompt you to create a *developer account*.\n",
    "3. You'll receive an *account confirmation* email with a link. Follow it and create an app. \n",
    "4. Once the app is created, you'll see a \"Keys and Token\" item on the top right tab of the webpage. These values will be needed to fill in the next cell.\n",
    "5. Please delete all your keys before submission.\n",
    "\n",
    "NOTE: This notebook is based on the API functionalities \"Essential\" license. Check the \"Academic Research\" license (right menu, \"Twitter API v2\", \"Academic Research\") if you need a broader set of functionalities.\n",
    "\n",
    "In this notebook, you can use the official Twitter V2 API:"
   ]
  },
  {
   "cell_type": "code",
   "execution_count": 3,
   "metadata": {},
   "outputs": [],
   "source": [
    "from pytwitter import Api \n",
    "\n",
    "TWITTER_API_KEY = '8HpexZmnqE6pNDACjPkP1mL3h'\n",
    "TWITTER_API_SECRET = 'nd6UT1Mbu32l5NUGHAK2Cov7CEMqdHnksWlLWeZtVO4qvSnOFW'\n",
    "# to get the oauth credential you need to click on the 'Generate access token' button:\n",
    "TWITTER_ACCESS_TOKEN = '1028008946-j8vOrwPegYpY24JtYLokSJkYWTwB2mVVe5x26Xf'\n",
    "TWITTER_ACCESS_SECRET = 'aAGK79OLSGvenWixT9ywozRbh32LZP4cs0cKP5LMwF2MA'\n",
    "\n",
    "api = Api(\n",
    "        consumer_key=TWITTER_API_KEY,\n",
    "        consumer_secret=TWITTER_API_SECRET,\n",
    "        access_token=TWITTER_ACCESS_TOKEN,\n",
    "        access_secret=TWITTER_ACCESS_SECRET\n",
    "    )\n",
    "\n"
   ]
  },
  {
   "cell_type": "markdown",
   "metadata": {},
   "source": [
    "or the Tweepy API:"
   ]
  },
  {
   "cell_type": "code",
   "execution_count": 4,
   "metadata": {},
   "outputs": [],
   "source": [
    "import tweepy\n",
    "\n",
    "client = tweepy.Client(bearer_token='AAAAAAAAAAAAAAAAAAAAABsmjAEAAAAA%2FO0fYJCKN7ll1RfzbVstBqy6ZTA%3DrL8jyaq6Fn7hgIWrE0aJ3y9CKufzBiPbRiL8sbYvvgG762mcPb')\n",
    "\n",
    "auth = tweepy.OAuthHandler(TWITTER_API_KEY, TWITTER_API_SECRET)\n",
    "auth.set_access_token(TWITTER_ACCESS_TOKEN, TWITTER_ACCESS_SECRET)\n",
    "\n",
    "twapi = tweepy.API(auth)"
   ]
  },
  {
   "cell_type": "markdown",
   "metadata": {},
   "source": [
    "### 1.1: Retrieving twitter search trends [Only with Academic Research License]"
   ]
  },
  {
   "cell_type": "code",
   "execution_count": 5,
   "metadata": {},
   "outputs": [
    {
     "ename": "Forbidden",
     "evalue": "403 Forbidden\n453 - You currently have Essential access which includes access to Twitter API v2 endpoints only. If you need access to this endpoint, you’ll need to apply for Elevated access via the Developer Portal. You can learn more here: https://developer.twitter.com/en/docs/twitter-api/getting-started/about-twitter-api#v2-access-leve",
     "output_type": "error",
     "traceback": [
      "\u001b[0;31m---------------------------------------------------------------------------\u001b[0m",
      "\u001b[0;31mForbidden\u001b[0m                                 Traceback (most recent call last)",
      "Cell \u001b[0;32mIn [5], line 6\u001b[0m\n\u001b[1;32m      3\u001b[0m loc \u001b[38;5;241m=\u001b[39m \u001b[38;5;124m\"\u001b[39m\u001b[38;5;124mAmsterdam\u001b[39m\u001b[38;5;124m\"\u001b[39m\n\u001b[1;32m      5\u001b[0m g \u001b[38;5;241m=\u001b[39m geocoder\u001b[38;5;241m.\u001b[39mosm(loc)\n\u001b[0;32m----> 6\u001b[0m closest_loc \u001b[38;5;241m=\u001b[39m \u001b[43mtwapi\u001b[49m\u001b[38;5;241;43m.\u001b[39;49m\u001b[43mclosest_trends\u001b[49m\u001b[43m(\u001b[49m\u001b[43mg\u001b[49m\u001b[38;5;241;43m.\u001b[39;49m\u001b[43mlat\u001b[49m\u001b[43m,\u001b[49m\u001b[43m \u001b[49m\u001b[43mg\u001b[49m\u001b[38;5;241;43m.\u001b[39;49m\u001b[43mlng\u001b[49m\u001b[43m)\u001b[49m\n\u001b[1;32m      7\u001b[0m trends \u001b[38;5;241m=\u001b[39m twapi\u001b[38;5;241m.\u001b[39mget_place_trends(closest_loc[\u001b[38;5;241m0\u001b[39m][\u001b[38;5;124m\"\u001b[39m\u001b[38;5;124mwoeid\u001b[39m\u001b[38;5;124m\"\u001b[39m])\n\u001b[1;32m      9\u001b[0m \u001b[38;5;28mprint\u001b[39m(trends[\u001b[38;5;241m0\u001b[39m][\u001b[38;5;124m\"\u001b[39m\u001b[38;5;124mtrends\u001b[39m\u001b[38;5;124m\"\u001b[39m])\n",
      "File \u001b[0;32m/Library/Frameworks/Python.framework/Versions/3.8/lib/python3.8/site-packages/tweepy/api.py:46\u001b[0m, in \u001b[0;36mpayload.<locals>.decorator.<locals>.wrapper\u001b[0;34m(*args, **kwargs)\u001b[0m\n\u001b[1;32m     44\u001b[0m kwargs[\u001b[38;5;124m'\u001b[39m\u001b[38;5;124mpayload_list\u001b[39m\u001b[38;5;124m'\u001b[39m] \u001b[38;5;241m=\u001b[39m payload_list\n\u001b[1;32m     45\u001b[0m kwargs[\u001b[38;5;124m'\u001b[39m\u001b[38;5;124mpayload_type\u001b[39m\u001b[38;5;124m'\u001b[39m] \u001b[38;5;241m=\u001b[39m payload_type\n\u001b[0;32m---> 46\u001b[0m \u001b[38;5;28;01mreturn\u001b[39;00m \u001b[43mmethod\u001b[49m\u001b[43m(\u001b[49m\u001b[38;5;241;43m*\u001b[39;49m\u001b[43margs\u001b[49m\u001b[43m,\u001b[49m\u001b[43m \u001b[49m\u001b[38;5;241;43m*\u001b[39;49m\u001b[38;5;241;43m*\u001b[39;49m\u001b[43mkwargs\u001b[49m\u001b[43m)\u001b[49m\n",
      "File \u001b[0;32m/Library/Frameworks/Python.framework/Versions/3.8/lib/python3.8/site-packages/tweepy/api.py:3866\u001b[0m, in \u001b[0;36mAPI.closest_trends\u001b[0;34m(self, lat, long, **kwargs)\u001b[0m\n\u001b[1;32m   3828\u001b[0m \u001b[38;5;129m@payload\u001b[39m(\u001b[38;5;124m'\u001b[39m\u001b[38;5;124mjson\u001b[39m\u001b[38;5;124m'\u001b[39m)\n\u001b[1;32m   3829\u001b[0m \u001b[38;5;28;01mdef\u001b[39;00m \u001b[38;5;21mclosest_trends\u001b[39m(\u001b[38;5;28mself\u001b[39m, lat, long, \u001b[38;5;241m*\u001b[39m\u001b[38;5;241m*\u001b[39mkwargs):\n\u001b[1;32m   3830\u001b[0m     \u001b[38;5;124;03m\"\"\"closest_trends(lat, long)\u001b[39;00m\n\u001b[1;32m   3831\u001b[0m \n\u001b[1;32m   3832\u001b[0m \u001b[38;5;124;03m    Returns the locations that Twitter has trending topic information for,\u001b[39;00m\n\u001b[0;32m   (...)\u001b[0m\n\u001b[1;32m   3864\u001b[0m \u001b[38;5;124;03m    https://developer.twitter.com/en/docs/twitter-api/v1/trends/locations-with-trending-topics/api-reference/get-trends-closest\u001b[39;00m\n\u001b[1;32m   3865\u001b[0m \u001b[38;5;124;03m    \"\"\"\u001b[39;00m\n\u001b[0;32m-> 3866\u001b[0m     \u001b[38;5;28;01mreturn\u001b[39;00m \u001b[38;5;28;43mself\u001b[39;49m\u001b[38;5;241;43m.\u001b[39;49m\u001b[43mrequest\u001b[49m\u001b[43m(\u001b[49m\n\u001b[1;32m   3867\u001b[0m \u001b[43m        \u001b[49m\u001b[38;5;124;43m'\u001b[39;49m\u001b[38;5;124;43mGET\u001b[39;49m\u001b[38;5;124;43m'\u001b[39;49m\u001b[43m,\u001b[49m\u001b[43m \u001b[49m\u001b[38;5;124;43m'\u001b[39;49m\u001b[38;5;124;43mtrends/closest\u001b[39;49m\u001b[38;5;124;43m'\u001b[39;49m\u001b[43m,\u001b[49m\u001b[43m \u001b[49m\u001b[43mendpoint_parameters\u001b[49m\u001b[38;5;241;43m=\u001b[39;49m\u001b[43m(\u001b[49m\n\u001b[1;32m   3868\u001b[0m \u001b[43m            \u001b[49m\u001b[38;5;124;43m'\u001b[39;49m\u001b[38;5;124;43mlat\u001b[39;49m\u001b[38;5;124;43m'\u001b[39;49m\u001b[43m,\u001b[49m\u001b[43m \u001b[49m\u001b[38;5;124;43m'\u001b[39;49m\u001b[38;5;124;43mlong\u001b[39;49m\u001b[38;5;124;43m'\u001b[39;49m\n\u001b[1;32m   3869\u001b[0m \u001b[43m        \u001b[49m\u001b[43m)\u001b[49m\u001b[43m,\u001b[49m\u001b[43m \u001b[49m\u001b[43mlat\u001b[49m\u001b[38;5;241;43m=\u001b[39;49m\u001b[43mlat\u001b[49m\u001b[43m,\u001b[49m\u001b[43m \u001b[49m\u001b[43mlong\u001b[49m\u001b[38;5;241;43m=\u001b[39;49m\u001b[43mlong\u001b[49m\u001b[43m,\u001b[49m\u001b[43m \u001b[49m\u001b[38;5;241;43m*\u001b[39;49m\u001b[38;5;241;43m*\u001b[39;49m\u001b[43mkwargs\u001b[49m\n\u001b[1;32m   3870\u001b[0m \u001b[43m    \u001b[49m\u001b[43m)\u001b[49m\n",
      "File \u001b[0;32m/Library/Frameworks/Python.framework/Versions/3.8/lib/python3.8/site-packages/tweepy/api.py:265\u001b[0m, in \u001b[0;36mAPI.request\u001b[0;34m(self, method, endpoint, endpoint_parameters, params, headers, json_payload, parser, payload_list, payload_type, post_data, files, require_auth, return_cursors, upload_api, use_cache, **kwargs)\u001b[0m\n\u001b[1;32m    263\u001b[0m     \u001b[38;5;28;01mraise\u001b[39;00m Unauthorized(resp)\n\u001b[1;32m    264\u001b[0m \u001b[38;5;28;01mif\u001b[39;00m resp\u001b[38;5;241m.\u001b[39mstatus_code \u001b[38;5;241m==\u001b[39m \u001b[38;5;241m403\u001b[39m:\n\u001b[0;32m--> 265\u001b[0m     \u001b[38;5;28;01mraise\u001b[39;00m Forbidden(resp)\n\u001b[1;32m    266\u001b[0m \u001b[38;5;28;01mif\u001b[39;00m resp\u001b[38;5;241m.\u001b[39mstatus_code \u001b[38;5;241m==\u001b[39m \u001b[38;5;241m404\u001b[39m:\n\u001b[1;32m    267\u001b[0m     \u001b[38;5;28;01mraise\u001b[39;00m NotFound(resp)\n",
      "\u001b[0;31mForbidden\u001b[0m: 403 Forbidden\n453 - You currently have Essential access which includes access to Twitter API v2 endpoints only. If you need access to this endpoint, you’ll need to apply for Elevated access via the Developer Portal. You can learn more here: https://developer.twitter.com/en/docs/twitter-api/getting-started/about-twitter-api#v2-access-leve"
     ]
    }
   ],
   "source": [
    "import geocoder\n",
    "\n",
    "loc = \"Amsterdam\"\n",
    "\n",
    "g = geocoder.osm(loc)\n",
    "closest_loc = twapi.closest_trends(g.lat, g.lng)\n",
    "trends = twapi.get_place_trends(closest_loc[0][\"woeid\"])\n",
    "\n",
    "print(trends[0][\"trends\"])\n"
   ]
  },
  {
   "cell_type": "markdown",
   "metadata": {},
   "source": [
    "### Task 1 [Only with Academic Research License]\n",
    "Twitter uses WOEIDs. Find out how WORLD_WOE_IDs were originally defined by Yahoo! and try to use others in a query. What kind of differences do you find between the worldwide trends and the local trends? \n"
   ]
  },
  {
   "cell_type": "code",
   "execution_count": null,
   "metadata": {},
   "outputs": [],
   "source": [
    "# Your code here\n",
    "#\n",
    "#\n",
    "#\n",
    "#\n",
    "#"
   ]
  },
  {
   "cell_type": "markdown",
   "metadata": {},
   "source": [
    "### 1.2: Retrieving recent Tweets [Any license]"
   ]
  },
  {
   "cell_type": "code",
   "execution_count": 6,
   "metadata": {},
   "outputs": [
    {
     "name": "stdout",
     "output_type": "stream",
     "text": [
      "Response(data=[<Tweet id=1590718151590703104 text='On this #ThrowbackThursday AND Barts’ Gotcha Day, I present to you the very first picture of Barts I took two years to the day. I had just adopted him from @CrashsLanding and strapped him into the front seat of my truck. I love this (not so little) guy. ☺️❤️ https://t.co/BkpwWFkNl6'>, <Tweet id=1590718091868372994 text='RT @bbcdoctorwho: \"Yeah, she\\'s my carer - she cares so I don\\'t have to\" 🤨 #ThrowbackThursday https://t.co/BnVg1ZSxXe'>, <Tweet id=1590718069999292416 text='RT @handsomehughie: Morning pals!\\n#ThrowbackThursday to when I 1st found meself in me original rescue.\\nIts a year ago now 😥\\nI sometimes won…'>, <Tweet id=1590718056229400578 text='UP NEXT: The evening #MixAt6 with @AndreyDiBaddest on the wheels of steel.\\n\\nWhat songs would you like the baddest to play for you today?\\n\\n#ThrowbackThursday | #SabaSaba | #Radio4UG https://t.co/qr1f21JRX9'>, <Tweet id=1590718052445716481 text='RT @A_GayBoy: #ThrowbackThursday\\n\\n😈😈🇧🇷\\n@tiagomarza &amp; @superboy_AV \\n\\nhttps://t.co/b5GoZyy0uP\\nhttps://t.co/18xNqOBEcY https://t.co/mKSWOkNHIK'>, <Tweet id=1590718048968679424 text='RT @hotfun1990cpl: #ThrowbackThursday Bring back summer😩😩 \\n\\nWho would join us at the lake?😈\\n\\nLet’s see your sexy #TBT 💋 https://t.co/AInVD3…'>, <Tweet id=1590718048851619840 text='RT @Sabrina_Tvs: #ThrowbackThursday 10 ago in a dunjeon .. https://t.co/dwbuSvI8l2'>, <Tweet id=1590718047106789376 text=\"#ThrowbackThursday What's your favourite game from back in the day of your gaming days? Heck even throw in a board game you use to play? Let's us know? #gaming\">, <Tweet id=1590718045844299777 text='RT @siriusanimalre1: ZIGGY was found and brought to us by the Happy Bus Team.  He is now just over 1yrs old and is looking for his fur-ever…'>, <Tweet id=1590718043113811972 text='#generativeart #throwbackthursday https://t.co/BvHgN18Rjb'>], includes={}, errors=[], meta={'newest_id': '1590718151590703104', 'oldest_id': '1590718043113811972', 'result_count': 10, 'next_token': 'b26v89c19zqg8o3fpzhj81gqsqtgifo8h8vle3g0w7h4t'})\n"
     ]
    }
   ],
   "source": [
    "import pprint\n",
    "\n",
    "pp = pprint.PrettyPrinter(indent=4)\n",
    "\n",
    "q = '#ThrowbackThursday' # XXX: Set this variable to a trending topic, or anything else you like. \n",
    "\n",
    "search_results = client.search_recent_tweets(q) \n",
    "\n",
    "# The following code allows you to print in a nice format the contents of search_results\n",
    "pprint.pprint(search_results, depth=1, width=60)"
   ]
  },
  {
   "cell_type": "markdown",
   "metadata": {},
   "source": [
    "### Task 2\n",
    "\n",
    "In the cell below, create a second variable (e.g. `statuses2`) that holds the results of a query other than the one presented above. Think about a query that would yield very different results than the first one, for example one that may yield a shorter output or about a different topic."
   ]
  },
  {
   "cell_type": "code",
   "execution_count": 7,
   "metadata": {},
   "outputs": [
    {
     "name": "stdout",
     "output_type": "stream",
     "text": [
      "Response(data=[<Tweet id=1590718151590703104 text='On this #ThrowbackThursday AND Barts’ Gotcha Day, I present to you the very first picture of Barts I took two years to the day. I had just adopted him from @CrashsLanding and strapped him into the front seat of my truck. I love this (not so little) guy. ☺️❤️ https://t.co/BkpwWFkNl6'>, <Tweet id=1590718091868372994 text='RT @bbcdoctorwho: \"Yeah, she\\'s my carer - she cares so I don\\'t have to\" 🤨 #ThrowbackThursday https://t.co/BnVg1ZSxXe'>, <Tweet id=1590718069999292416 text='RT @handsomehughie: Morning pals!\\n#ThrowbackThursday to when I 1st found meself in me original rescue.\\nIts a year ago now 😥\\nI sometimes won…'>, <Tweet id=1590718056229400578 text='UP NEXT: The evening #MixAt6 with @AndreyDiBaddest on the wheels of steel.\\n\\nWhat songs would you like the baddest to play for you today?\\n\\n#ThrowbackThursday | #SabaSaba | #Radio4UG https://t.co/qr1f21JRX9'>, <Tweet id=1590718052445716481 text='RT @A_GayBoy: #ThrowbackThursday\\n\\n😈😈🇧🇷\\n@tiagomarza &amp; @superboy_AV \\n\\nhttps://t.co/b5GoZyy0uP\\nhttps://t.co/18xNqOBEcY https://t.co/mKSWOkNHIK'>, <Tweet id=1590718048968679424 text='RT @hotfun1990cpl: #ThrowbackThursday Bring back summer😩😩 \\n\\nWho would join us at the lake?😈\\n\\nLet’s see your sexy #TBT 💋 https://t.co/AInVD3…'>, <Tweet id=1590718048851619840 text='RT @Sabrina_Tvs: #ThrowbackThursday 10 ago in a dunjeon .. https://t.co/dwbuSvI8l2'>, <Tweet id=1590718047106789376 text=\"#ThrowbackThursday What's your favourite game from back in the day of your gaming days? Heck even throw in a board game you use to play? Let's us know? #gaming\">, <Tweet id=1590718045844299777 text='RT @siriusanimalre1: ZIGGY was found and brought to us by the Happy Bus Team.  He is now just over 1yrs old and is looking for his fur-ever…'>, <Tweet id=1590718043113811972 text='#generativeart #throwbackthursday https://t.co/BvHgN18Rjb'>], includes={}, errors=[], meta={'newest_id': '1590718151590703104', 'oldest_id': '1590718043113811972', 'result_count': 10, 'next_token': 'b26v89c19zqg8o3fpzhj81gqsqtgifo8h8vle3g0w7h4t'})\n",
      "\n",
      "\n"
     ]
    }
   ],
   "source": [
    "pp = pprint.PrettyPrinter(indent=2)\n",
    "\n",
    "statuses2 = '#trump' # XXX: Set this variable to a trending topic, or anything else you like. \n",
    "statuses3 = 'Netherlands'\n",
    "search_results2 = client.search_recent_tweets(statuses2, max_results=100) \n",
    "\n",
    "# The following code allows you to print in a nice format the contents of search_results\n",
    "pprint.pprint(search_results, depth=1, width=60)\n",
    "print()\n",
    "print()"
   ]
  },
  {
   "cell_type": "markdown",
   "metadata": {},
   "source": [
    "## Part 2: Extracting text, screen names, and hashtags from tweets \n",
    "\n",
    "Simply printing all the search results to screen is nice, but to really start analysing them, it is handy to select the interesting parts and store them in a different structure such as a list. \n",
    "\n",
    "In this example you are using a thing called \"List Comprehension\".\n",
    "\n",
    "### 2.1 List Comprehensions\n",
    "List comprehension is a powerful construct that allows to succinctly build a list.\n",
    "With it you can process items from any iterable (e.g. dictionaries, lists, tuples, iterators...) and output a list while optionally performing an operation on each value.\n",
    "\n",
    "Here's a few examples from Mining the Social Web:"
   ]
  },
  {
   "cell_type": "code",
   "execution_count": 67,
   "metadata": {},
   "outputs": [],
   "source": [
    "# double all values from 0 to 9\n",
    "double_list = [i*2 for i in range(10)]\n",
    "\n",
    "# raise to the power of 2, but only if the number is uneven\n",
    "power_even_list = [i**2 for i in range(10) if i%2!=0]\n",
    "\n",
    "# clean strings in a tuple\n",
    "stripped_lines = [x.strip() for x in ('The\\n', 'Social\\n', 'Web\\n')]\n",
    "\n",
    "# return length of each string in stripped_lines\n",
    "len_str_lines = [len(s) for s in stripped_lines]\n",
    "\n",
    "# finally, we can nest list comprehensions to flatten a list of lists:\n",
    "list_of_lists = [[1, 2, 3], [4, 5, 6], [7, 8, 9]]\n",
    "range_9 = [x for y in list_of_lists for x in y]\n",
    "\n",
    "print(double_list)\n",
    "print(power_even_list)\n",
    "print(stripped_lines)\n",
    "print(len_str_lines)\n",
    "print(range_9)"
   ]
  },
  {
   "cell_type": "markdown",
   "metadata": {},
   "source": [
    "### 2.2 Parsing text, screen names and hashtags from tweets\n",
    "*(from Example 1-6 in Mining the Social Web)*\n",
    "\n",
    "Hereafter, we'll be creating a variable `status_texts` of type list. \\\n",
    "The list will be filled with the `text` elements from each `status`, whereas `status` comes from looping through all `statuses` in the `search_results` list (1.2). \\\n",
    "Look up the list comprehensions in your Python reference materials to make sure you understand what's happening here. "
   ]
  },
  {
   "cell_type": "code",
   "execution_count": 8,
   "metadata": {},
   "outputs": [],
   "source": [
    "import json"
   ]
  },
  {
   "cell_type": "code",
   "execution_count": 9,
   "metadata": {},
   "outputs": [
    {
     "name": "stdout",
     "output_type": "stream",
     "text": [
      "[\n",
      " \"On this #ThrowbackThursday AND Barts\\u2019 Gotcha Day, I present to you the very first picture of Barts I took two years to the day. I had just adopted him from @CrashsLanding and strapped him into the front seat of my truck. I love this (not so little) guy. \\u263a\\ufe0f\\u2764\\ufe0f https://t.co/BkpwWFkNl6\",\n",
      " \"RT @bbcdoctorwho: \\\"Yeah, she's my carer - she cares so I don't have to\\\" \\ud83e\\udd28 #ThrowbackThursday https://t.co/BnVg1ZSxXe\",\n",
      " \"RT @handsomehughie: Morning pals!\\n#ThrowbackThursday to when I 1st found meself in me original rescue.\\nIts a year ago now \\ud83d\\ude25\\nI sometimes won\\u2026\",\n",
      " \"UP NEXT: The evening #MixAt6 with @AndreyDiBaddest on the wheels of steel.\\n\\nWhat songs would you like the baddest to play for you today?\\n\\n#ThrowbackThursday | #SabaSaba | #Radio4UG https://t.co/qr1f21JRX9\",\n",
      " \"RT @A_GayBoy: #ThrowbackThursday\\n\\n\\ud83d\\ude08\\ud83d\\ude08\\ud83c\\udde7\\ud83c\\uddf7\\n@tiagomarza &amp; @superboy_AV \\n\\nhttps://t.co/b5GoZyy0uP\\nhttps://t.co/18xNqOBEcY https://t.co/mKSWOkNHIK\",\n",
      " \"RT @hotfun1990cpl: #ThrowbackThursday Bring back summer\\ud83d\\ude29\\ud83d\\ude29 \\n\\nWho would join us at the lake?\\ud83d\\ude08\\n\\nLet\\u2019s see your sexy #TBT \\ud83d\\udc8b https://t.co/AInVD3\\u2026\",\n",
      " \"RT @Sabrina_Tvs: #ThrowbackThursday 10 ago in a dunjeon .. https://t.co/dwbuSvI8l2\",\n",
      " \"#ThrowbackThursday What's your favourite game from back in the day of your gaming days? Heck even throw in a board game you use to play? Let's us know? #gaming\",\n",
      " \"RT @siriusanimalre1: ZIGGY was found and brought to us by the Happy Bus Team.  He is now just over 1yrs old and is looking for his fur-ever\\u2026\",\n",
      " \"#generativeart #throwbackthursday https://t.co/BvHgN18Rjb\"\n",
      "]\n",
      "[\n",
      " \"On\",\n",
      " \"this\",\n",
      " \"#ThrowbackThursday\",\n",
      " \"AND\",\n",
      " \"Barts\\u2019\",\n",
      " \"Gotcha\",\n",
      " \"Day,\",\n",
      " \"I\",\n",
      " \"present\",\n",
      " \"to\",\n",
      " \"you\",\n",
      " \"the\",\n",
      " \"very\",\n",
      " \"first\",\n",
      " \"picture\",\n",
      " \"of\",\n",
      " \"Barts\",\n",
      " \"I\",\n",
      " \"took\",\n",
      " \"two\",\n",
      " \"years\",\n",
      " \"to\",\n",
      " \"the\",\n",
      " \"day.\",\n",
      " \"I\",\n",
      " \"had\",\n",
      " \"just\",\n",
      " \"adopted\",\n",
      " \"him\",\n",
      " \"from\",\n",
      " \"@CrashsLanding\",\n",
      " \"and\",\n",
      " \"strapped\",\n",
      " \"him\",\n",
      " \"into\",\n",
      " \"the\",\n",
      " \"front\",\n",
      " \"seat\",\n",
      " \"of\",\n",
      " \"my\",\n",
      " \"truck.\",\n",
      " \"I\",\n",
      " \"love\",\n",
      " \"this\",\n",
      " \"(not\",\n",
      " \"so\",\n",
      " \"little)\",\n",
      " \"guy.\",\n",
      " \"\\u263a\\ufe0f\\u2764\\ufe0f\",\n",
      " \"https://t.co/BkpwWFkNl6\",\n",
      " \"RT\",\n",
      " \"@bbcdoctorwho:\",\n",
      " \"\\\"Yeah,\",\n",
      " \"she's\",\n",
      " \"my\",\n",
      " \"carer\",\n",
      " \"-\",\n",
      " \"she\",\n",
      " \"cares\",\n",
      " \"so\",\n",
      " \"I\",\n",
      " \"don't\",\n",
      " \"have\",\n",
      " \"to\\\"\",\n",
      " \"\\ud83e\\udd28\",\n",
      " \"#ThrowbackThursday\",\n",
      " \"https://t.co/BnVg1ZSxXe\",\n",
      " \"RT\",\n",
      " \"@handsomehughie:\",\n",
      " \"Morning\",\n",
      " \"pals!\",\n",
      " \"#ThrowbackThursday\",\n",
      " \"to\",\n",
      " \"when\",\n",
      " \"I\",\n",
      " \"1st\",\n",
      " \"found\",\n",
      " \"meself\",\n",
      " \"in\",\n",
      " \"me\",\n",
      " \"original\",\n",
      " \"rescue.\",\n",
      " \"Its\",\n",
      " \"a\",\n",
      " \"year\",\n",
      " \"ago\",\n",
      " \"now\",\n",
      " \"\\ud83d\\ude25\",\n",
      " \"I\",\n",
      " \"sometimes\",\n",
      " \"won\\u2026\",\n",
      " \"UP\",\n",
      " \"NEXT:\",\n",
      " \"The\",\n",
      " \"evening\",\n",
      " \"#MixAt6\",\n",
      " \"with\",\n",
      " \"@AndreyDiBaddest\",\n",
      " \"on\",\n",
      " \"the\",\n",
      " \"wheels\",\n",
      " \"of\",\n",
      " \"steel.\",\n",
      " \"What\",\n",
      " \"songs\",\n",
      " \"would\",\n",
      " \"you\",\n",
      " \"like\",\n",
      " \"the\",\n",
      " \"baddest\",\n",
      " \"to\",\n",
      " \"play\",\n",
      " \"for\",\n",
      " \"you\",\n",
      " \"today?\",\n",
      " \"#ThrowbackThursday\",\n",
      " \"|\",\n",
      " \"#SabaSaba\",\n",
      " \"|\",\n",
      " \"#Radio4UG\",\n",
      " \"https://t.co/qr1f21JRX9\",\n",
      " \"RT\",\n",
      " \"@A_GayBoy:\",\n",
      " \"#ThrowbackThursday\",\n",
      " \"\\ud83d\\ude08\\ud83d\\ude08\\ud83c\\udde7\\ud83c\\uddf7\",\n",
      " \"@tiagomarza\",\n",
      " \"&amp;\",\n",
      " \"@superboy_AV\",\n",
      " \"https://t.co/b5GoZyy0uP\",\n",
      " \"https://t.co/18xNqOBEcY\",\n",
      " \"https://t.co/mKSWOkNHIK\",\n",
      " \"RT\",\n",
      " \"@hotfun1990cpl:\",\n",
      " \"#ThrowbackThursday\",\n",
      " \"Bring\",\n",
      " \"back\",\n",
      " \"summer\\ud83d\\ude29\\ud83d\\ude29\",\n",
      " \"Who\",\n",
      " \"would\",\n",
      " \"join\",\n",
      " \"us\",\n",
      " \"at\",\n",
      " \"the\",\n",
      " \"lake?\\ud83d\\ude08\",\n",
      " \"Let\\u2019s\",\n",
      " \"see\",\n",
      " \"your\",\n",
      " \"sexy\",\n",
      " \"#TBT\",\n",
      " \"\\ud83d\\udc8b\",\n",
      " \"https://t.co/AInVD3\\u2026\",\n",
      " \"RT\",\n",
      " \"@Sabrina_Tvs:\",\n",
      " \"#ThrowbackThursday\",\n",
      " \"10\",\n",
      " \"ago\",\n",
      " \"in\",\n",
      " \"a\",\n",
      " \"dunjeon\",\n",
      " \"..\",\n",
      " \"https://t.co/dwbuSvI8l2\",\n",
      " \"#ThrowbackThursday\",\n",
      " \"What's\",\n",
      " \"your\",\n",
      " \"favourite\",\n",
      " \"game\",\n",
      " \"from\",\n",
      " \"back\",\n",
      " \"in\",\n",
      " \"the\",\n",
      " \"day\",\n",
      " \"of\",\n",
      " \"your\",\n",
      " \"gaming\",\n",
      " \"days?\",\n",
      " \"Heck\",\n",
      " \"even\",\n",
      " \"throw\",\n",
      " \"in\",\n",
      " \"a\",\n",
      " \"board\",\n",
      " \"game\",\n",
      " \"you\",\n",
      " \"use\",\n",
      " \"to\",\n",
      " \"play?\",\n",
      " \"Let's\",\n",
      " \"us\",\n",
      " \"know?\",\n",
      " \"#gaming\",\n",
      " \"RT\",\n",
      " \"@siriusanimalre1:\",\n",
      " \"ZIGGY\",\n",
      " \"was\",\n",
      " \"found\",\n",
      " \"and\",\n",
      " \"brought\",\n",
      " \"to\",\n",
      " \"us\",\n",
      " \"by\",\n",
      " \"the\",\n",
      " \"Happy\",\n",
      " \"Bus\",\n",
      " \"Team.\",\n",
      " \"He\",\n",
      " \"is\",\n",
      " \"now\",\n",
      " \"just\",\n",
      " \"over\",\n",
      " \"1yrs\",\n",
      " \"old\",\n",
      " \"and\",\n",
      " \"is\",\n",
      " \"looking\",\n",
      " \"for\",\n",
      " \"his\",\n",
      " \"fur-ever\\u2026\",\n",
      " \"#generativeart\",\n",
      " \"#throwbackthursday\",\n",
      " \"https://t.co/BvHgN18Rjb\"\n",
      "]\n"
     ]
    }
   ],
   "source": [
    "status_texts = [ search_result['id'] for search_result in search_results.data ]\n",
    "# the escape character \"\\\" allows for the list comprehension to continue\n",
    "# on a new line. While not strictly necessary, it makes code more readable\n",
    "# for your fellow programmers.\n",
    "\n",
    "status_texts = [ search_result['text'] for search_result in search_results.data ]\n",
    "\n",
    "#hashtags = [ hashtag['text'] for status in statuses \\\n",
    "#        for hashtag in status['entities']['hashtags'] ]\n",
    "\n",
    "# Compute a collection of all words from all tweets\n",
    "words = [ w for t in status_texts for w in t.split() ] #split the string on the empty spaces\n",
    "\n",
    "# Explore the first 5 items for each...\n",
    "print(json.dumps(status_texts, indent=1))\n",
    "print(json.dumps(words, indent=1))"
   ]
  },
  {
   "cell_type": "markdown",
   "metadata": {},
   "source": [
    "### Task 3\n",
    "\n",
    "You are now ready to parse usernames, hashtags and text from the results you previously obtained in Task 2 (e.g. `statuses_2`). While doing it, make sure to leave the variables created in 2.2 untouched. Instead, create your own variable names, which you'll be using soon.\n"
   ]
  },
  {
   "cell_type": "code",
   "execution_count": 10,
   "metadata": {},
   "outputs": [
    {
     "name": "stdout",
     "output_type": "stream",
     "text": [
      "Hashtags:\n",
      "['#MAGA', '#TRUMP2024', '#Trump', '#Trump', '#trumpRally', '#DonaldTrump', '#trumpwon', '#TrumpWasRightAboutEverything', '#TRUMP2024ToSaveAmerica', '#MAGA', '#2AMaga', '#ULTRAMAGA', '#funny', '#shirt', '#pro', '#trump', '#Parodybossdesigns', '#biden', '#anti', '#fjb', '#Graphic', '#ParodyBossDesigns', '#EtsySeller', '#FoxNews', '#Trump', '#Trump', '#Desantis.', '#TRUMP', '#GOP', '#TrumpisaNationalDisgrace', '#ABC', '#NBC', '#CBS', '#NHK', '#フジテレビ', '#TBS', '#テレビ朝日', '#日本テレビ', '#テレビ東京', '#Hypocrisy', '#Truth', '#BlackLivesMatter', '#Trump', '#Midterms2022', '#Biden', '#Trump', '#Trump', '#Desantis.', '#Nevada;', '#Arizona', '#Georgia', '#GOP', '#Trump', '#donald', '#trump', '#casa', '#bianca', '#MAGA', '#TRUMP2024', '#Trump', '#Trump', '#trumpRally', '#DonaldTrump', '#trumpwon', '#TrumpWasRightAboutEverything', '#TRUMP2024ToSaveAmerica', '#MAGA', '#2AMaga', '#ULTRAMAGA', '#verkiez…', '#Trump', '#Desantis.', '#DeSantis', '#Trump', '#Trump', '#Trump', '#Trump', '#Trump', '#Trump', '#DonTrumpJr', '#TrumpisaNationalDisgrace', '#trump', '#IndictDonaldTrump', '#Garland', '#President', '#Biden!', '#Trump', '#ABC', '#NBC', '#CBS', '#NHK', '#フジテレビ', '#TBS', '#テレビ朝日', '#日本テレビ', '#テレビ東京', '#Trump', '#Politics', '#trump', '#MAGA', '#TRUMP2024', '#Trump', '#Trump', '#trumpRally', '#DonaldTrump', '#trumpwon', '#TrumpWasRightAboutEverything', '#TRUMP2024ToSaveAmerica', '#MAGA', '#2AMaga', '#ULTRAMAGA', '#randomtrump', '#trump', '#donaldtrump', '#giphy', '#gif', '#gifs', '#unemployed', '#god.', '#truthSocial,', '#laurenboebert', '#maga', '#gop', '#trump', '#jesusSaves', '#jesusIsLord', '#worldnews', '#viral', '#india', '#usa', '#trending', '#business', '#world', '#america', '#chinaa', '#corona', '#trump', '#knowledge', '#covid', '#media', '#politics', '#update', '#pandemic', '#knowledgeispower', '#USElections', '#Trump', '#Midterms2022,', '#Trump', '#Trump', '#DeSantis', '#POTUS45❤️🙏🥰🇺🇸,', '#DJT', '#Trump', '#Desantis.', '#Europe', '#Trump', '#EtatsUnis2022', '#Midterms2022', '#Trump', '#Trump', '#MidTermElectiions', '#Dems', '#RINOs', '#Trump', '#ElectionFraud', '#Biden', '#GOP', '#Republicans', '#MidtermElections2022', '#MAGA', '#trump', '#ABC', '#NBC', '#CBS', '#NHK', '#フジテレビ', '#TBS', '#テレビ朝日', '#日本テレビ', '#テレビ東京', '#Trump', '#trumpRally', '#DonaldTrump', '#trumpwon', '#TrumpWasRightAboutEverything', '#TRUMP2024ToSaveAmerica', '#MAGA', '#2AMaga', '#ULTRAMAGA', '#MAGA', '#TRUMP2024', '#Trump', '#Hypocrites', '#BlackLivesMatter', '#RepublicansAreTheProblem', '#January6thHearings', '#VETERANS', '#WomensRights', '#KARILAKE', '#GOPBetrayedAmerica', '#Trump', '#GOPTaxScam', '#HershelWalker', '#RaphaelWarnock', '#Democracy', '#SocialSecurity', '#EvangelicalChristians', '#Green', '#FoxNews', '#Trump', '#GOP,', '#HumptyTrumpty', '#Trump', '#Republicans', '#Trump', '#democrats', '#FBI', '#DeSantis', '#Trump', '#Desantis.', '#23352', '#TFG', '#Trump', '#Graphic', '#anti', '#pro', '#biden', '#shirt', '#trump', '#Democrat', '#fjb', '#maga', '#ParodyBossDesigns', '#EtsySeller', '#election', '#vote', '#politics', '#trump', '#usa', '#news', '#biden', '#elections', '#covid', '#maga', '#democrat', '#america', '#donaldtrump', '#joebiden', '#democrats', '#republican', '#india', '#congress', '#electionday', '#memes', '#conservative', '#democracy', '#bjp', '#president', '#voting', '#voteblue', '#bhfyp', '#republicans', '#love', '#liberal', '#Trump', '#IndictTrumpNow', '#MAGATears', '#leaked', '#Midterms2022', '#Trump', '#Biden', '#DNC', '#GOP', '#Trump', '#Trump', '#trumpRally', '#DonaldTrump', '#trumpwon', '#TrumpWasRightAboutEverythi…', '#FoxNews', '#Trump', '#USElections', '#Trump', '#Trump', '#vandaaginside', '#USElections', '#Trump', '#EleccionesEstadosUnidos', '#ABC', '#NBC', '#CBS', '#NHK', '#フジテレビ', '#TBS', '#テレビ朝日', '#日本テレビ', '#テレビ東京', '#Trump', '#trumpRally', '#DonaldTrump', '#trumpwon', '#TrumpWasRightAboutEverything', '#TRUMP2024ToSaveAmerica', '#MAGA', '#2AMaga', '#ULTRAMAGA', '#MAGA', '#TRUMP2024', '#Trump', '#Trump', '#Trump', '#Guaido', '#Venezuela?', '#Pelosi', '#IDGAF', '#GOP', '#Trump', '#ComplicitGOP', '#trumpRally', '#Trump', '#FakeTrumpers.', '#truthwins', '#Fascism', '#Biden', '#Trump', '#Fa…', '#trump', '#Trump', '#Republicans', '#MAGA,', '#trump&amp;', '#MAGA', '#TRUMP2024', '#Trump', '#Trump', '#trumpRally', '#DonaldTrump', '#trumpwon', '#TrumpWasRightAboutEverything', '#TRUMP2024ToSaveAmerica', '#MAGA', '#2AMaga', '#ULTRAMAGA', \"#EschewEstablishmentRINO's\", '#Trump', '#Midterms', '#Trump', '#Democrats', '#diversity', '#Republicans', '#trump', '#trumpcrimefamily', '#donaldtrump…', '#diversity', '#Republicans', '#trump', '#trump', '#Trump', '#Desantis.', '#Trump', '#Desantis.', '#ABC', '#NBC', '#CBS', '#NHK', '#フジテレビ', '#TBS', '#テレビ朝日', '#日本テレビ', '#テレビ東京', '#FoxNews', '#Trump', '#Midterms2022', '#midterms', '#Biden', '#democrats', '#republicans', '#trump', '#election2022', '#trumpcrimefamily', '#donaldtrump', '#trump']\n",
      "Usernames:\n",
      "['@robertwolf32:', '@nypost', '@WSJ', '@MichaelCohen212:', '@MagggieGuru', '@kk131066:', '@laura_ceruti:', '@PlacideActu:', '@MichaelCohen212:', '@GOP,', '@NVGOP,', '@AdamLaxalt', '@TheDemocrats', '@QQHaseena:', '@MichaelCohen212:', '@MMohsin39822388:', '@thejoshuablog:', '@RawStory:', '@CasMudde:', '@Trump', '@ElleLaw4:', '@AnnYonan1', '@ElleLaw4:', '@AnnYonan1', '@laurenboebert', '@Anonymous9775:', '@ZeeNews:', '@preetiddahiya', '@ZeAmericanDream', '@elonmusk.', '@CDeplorable:', '@MAGAawe:', '@MichaelCohen212:', '@Georges73922577:', '@ChristoCloutier', '@heuredumonde', '@walZemm:', '@TheDemocrats', '@GOP', '@siriomerenda:', '@kk131066:', '@MCJHuisman:', '@walZemm:', '@robertwolf32:', '@nypost', '@WSJ', '@NYDailyNews', '@YoungWidowsHV', '@secupp', '@thejoshuablog:', '@RawStory:', '@MichaelCohen212:', '@AlexisBachelay:', '@elonmusk', '@watch_union', '@ConservativeO17:', '@robertwolf32:', '@nypost', '@WSJ', '@ZeeNews:', '@preetiddahiya', '@EelcoHoecke:', '@preetiddahiya', '@ElDiploConoSur:', '@charliekirk11', '@LordOfBlast1', '@metalqueen92', '@catturd2', '@Wiffmeister:', '@djb21212:', '@panto_james', '@ChuckCallesto', '@kk131066:', '@OGBTC', '@realmagacoin:', '@MCJHuisman:', '@HouseGop', '@GrantWehrli:', '@themagacancer:', '@nelsonrbonilla', '@SebGorka', '@kk131066:', '@MichaelCohen212:', '@MichaelCohen212:', '@robertwolf32:', '@nypost', '@WSJ', '@amirmehdipuor:', '@SudRadio:']\n"
     ]
    }
   ],
   "source": [
    "# your code here\n",
    "#\n",
    "#\n",
    "#\n",
    "#\n",
    "\n",
    "# print(statuses2)\n",
    "\n",
    "# create.list(hastags)\n",
    "hastags=[]\n",
    "usernames=[]\n",
    "\n",
    "tweet_texts = [ search_result['text'] for search_result in search_results2.data ]\n",
    "\n",
    "words = [ w for t in tweet_texts for w in t.split() ]\n",
    "\n",
    "for x in words:\n",
    "    if(x.startswith('#')):\n",
    "        hastags.append(x)\n",
    "    if(x.startswith('@')):\n",
    "        usernames.append(x)\n",
    "\n",
    "print(\"Hashtags:\")\n",
    "print(hastags)\n",
    "print(\"Usernames:\")\n",
    "print(usernames)\n",
    "        \n",
    "\n",
    "    \n",
    "\n",
    "# for t in tweet_texts for w in t.split():\n",
    "# print(words)"
   ]
  },
  {
   "cell_type": "markdown",
   "metadata": {},
   "source": [
    "## Part 3: Creating a basic frequency distribution from words in tweets\n",
    "*(from Examples 1-7 in Mining the Social Web)* \n",
    "\n",
    "\n",
    "In the cell below we display the 10 most common hashtag instances:"
   ]
  },
  {
   "cell_type": "code",
   "execution_count": 11,
   "metadata": {},
   "outputs": [
    {
     "name": "stdout",
     "output_type": "stream",
     "text": [
      "[('#Trump', 60), ('the', 50), ('RT', 46), ('to', 41), ('is', 29), ('Trump', 24), ('of', 22), ('in', 19), ('and', 18), ('a', 18)]\n"
     ]
    }
   ],
   "source": [
    "from collections import Counter\n",
    "\n",
    "for item in [words]:\n",
    "    c = Counter(item)\n",
    "    \n",
    "print(c.most_common()[:10]) # top 10"
   ]
  },
  {
   "cell_type": "markdown",
   "metadata": {},
   "source": [
    "Your output should look something like this: \\\n",
    "`[('ThrowbackThursday', 34), ('throwbackthursday', 11), ('TBT', 6), ('ThrowBackThursday', 6), ('Trivia', 3), ('madoka_magica', 2), ('New', 2), ('EURO2020', 2), ('artists', 2)]`\n",
    "\n",
    "### Task 4\n",
    "Show hashtags frequency for results that you obtained in Task 3. Think about possible explanations for the different results you get from the analyses for the different queries.\n"
   ]
  },
  {
   "cell_type": "code",
   "execution_count": 12,
   "metadata": {},
   "outputs": [
    {
     "name": "stdout",
     "output_type": "stream",
     "text": [
      "Hashtags:\n",
      "[('#Trump', 60), ('#trump', 16), ('#MAGA', 13), ('#trumpRally', 8), ('#DonaldTrump', 7), ('#trumpwon', 7), ('#Desantis.', 7), ('#TRUMP2024', 6), ('#TrumpWasRightAboutEverything', 6), ('#TRUMP2024ToSaveAmerica', 6)]\n",
      "Usernames:\n",
      "[('@MichaelCohen212:', 7), ('@robertwolf32:', 4), ('@nypost', 4), ('@WSJ', 4), ('@kk131066:', 4), ('@preetiddahiya', 3), ('@TheDemocrats', 2), ('@thejoshuablog:', 2), ('@RawStory:', 2), ('@ElleLaw4:', 2)]\n"
     ]
    }
   ],
   "source": [
    "# You code here\n",
    "#\n",
    "#\n",
    "#\n",
    "#\n",
    "#  \n",
    "\n",
    "for item in [hastags]:\n",
    "    h = Counter(item)\n",
    "\n",
    "for item in [usernames]:\n",
    "    u = Counter(item)\n",
    "    \n",
    "print(\"Hashtags:\")\n",
    "print(h.most_common()[:10]) # top 10\n",
    "\n",
    "print(\"Usernames:\")\n",
    "print(u.most_common()[:10]) # top 10"
   ]
  },
  {
   "cell_type": "markdown",
   "metadata": {},
   "source": [
    "### 3.1 Storing your results\n",
    "So far, we have been storing the data in working memory. Often it's handy to store your data to disk so you can retrieve it in a next session. \n",
    "\n",
    "The pickle module lets you do exactly that, by serializing data in a binary format.\n"
   ]
  },
  {
   "cell_type": "code",
   "execution_count": 13,
   "metadata": {},
   "outputs": [],
   "source": [
    "import pickle\n",
    "\n",
    "filepath = \"my_data.pickle\"\n",
    "# this indented python syntax is broadly defined as \"context manager\".\n",
    "# This means that everything happening under its indentation will use f\n",
    "# as file handle to filepath. The Shortand `wb` stands for \"write binary\",\n",
    "# which is how we serialize data to disk.\n",
    "with open(filepath, \"wb\") as f:\n",
    "    pickle.dump(words, f) # write the contents of list 'words' to file 'f'\n",
    "    \n",
    "# Note that, after the end of the indented block, the file is automatically closed.\n",
    "# Hence, no memory resource on your system is wasted idly."
   ]
  },
  {
   "cell_type": "markdown",
   "metadata": {},
   "source": [
    "If you browse to your working directory, you should find a file there named \"myData.pickle\". You can open this in a text editor, or load its contents back into a variable to do some more analyses on.\n"
   ]
  },
  {
   "cell_type": "code",
   "execution_count": 14,
   "metadata": {},
   "outputs": [
    {
     "name": "stdout",
     "output_type": "stream",
     "text": [
      "['Cuomo’s', 'Resignation', 'Backfires', 'On', 'Biden', '#MAGA', '#TRUMP2024', '#Trump', 'https://t.co/M5UyWCmRF7', 'Social', 'Security', 'Change', 'Just', 'Went', 'Into', 'Effect', 'This', 'Year', '#Trump', '#trumpRally', '#DonaldTrump', '#trumpwon', '#TrumpWasRightAboutEverything', '#TRUMP2024ToSaveAmerica', '#MAGA', '#2AMaga', '#ULTRAMAGA', 'https://t.co/dpFTopwMOo', 'FJB', 'Shirt', 'Anti', 'Biden', 'Pro', 'Trump', 'Funny', 'Graphic', 'Tee', 'by', 'ParodyBossDesigns', '#funny', '#shirt', '#pro', '#trump', '#Parodybossdesigns', '#biden', '#anti', '#fjb', '#Graphic', '#ParodyBossDesigns', '#EtsySeller', '👉https://t.co/WJZU7SGk2n', 'https://t.co/dqIYP8lzYY', 'RT', '@robertwolf32:', 'Rupert', 'Murdoch’s', '@nypost', '&amp;', '@WSJ', '(part', 'of', 'Newscorp)', '&amp;', 'owner', '#FoxNews', 'touting', 'collapse', 'of', '#Trump', 'calling', 'him', 'Biggest', 'Loser…', 'RT', '@MichaelCohen212:', 'The', 'midterm', 'takeaway', 'is', 'the', 'current', 'feud', 'between', '#Trump', 'and', '#Desantis.', 'I', 'know', 'exactly', 'what', 'Trump', 'is', 'up', 'to', '(between', 'the…', '@MagggieGuru', 'I', 'know', 'this.', '👇', 'No', 'amount', 'of', 'disinformation', 'or', 'BS', 'pandering', 'to', 'us', '-', 'only', 'to', 'pull', 'the', 'rug', 'later', '-', 'will', 'get', 'us', 'to', 'flip', 'on', 'Trump.', 'The', 'veil', 'can', 'not', 'be', 'pulled', 'over', 'our', 'eyes', 'again.', '#TRUMP', 'IS', 'OUR', 'GUY', '#GOP', 'is', 'not', 'our', 'guy.🤮', '#TrumpisaNationalDisgrace', 'Q中間選挙の結果→共和党の勝利', 'Q民主主義の民意の表し方→選挙', '→結果を捻じ曲げフェイクニュースを流す', '#ABC', '#NBC', '#CBS', '#NHK', '#フジテレビ', '#TBS', '#テレビ朝日', '#日本テレビ', '#テレビ東京', 'の連中は報道から排除を断固希望', '🇺🇸#TRUMP', 'LOVE', '🇯🇵🇺🇸black', 'bullet', 'https://t.co/x3HVu1CJ1p', '↓FakeNews', 'https://t.co/oVbPIRY17q', 'RT', '@kk131066:', 'A', 'little', '#Hypocrisy', 'is', '100%', 'hypocrisy', 'because', 'if', 'the', '#Truth', 'is', 'less', 'than', '100%', \"it's\", 'a', 'lie', '#BlackLivesMatter', 'https://t.co/8jo…', 'RT', '@laura_ceruti:', 'Biden', 'non', 'è', 'stato', 'sconfitto', 'come', 'si', 'pensava,', 'il', 'vero', 'sconfitto', 'è', '#Trump', 'con', 'buona', 'pace', 'di', 'Putin,', 'Travaglio,', 'Giuseppi', 'Cont…', 'RT', '@PlacideActu:', 'Midterms', ':', 'Joe', 'Biden', '«', 'prêt', '»', 'à', 'travailler', 'avec', 'l’opposition', 'républicaine', '#Midterms2022', '#Biden', '#Trump', 'https://t.co/2lkU9P1…', 'RT', '@MichaelCohen212:', 'The', 'midterm', 'takeaway', 'is', 'the', 'current', 'feud', 'between', '#Trump', 'and', '#Desantis.', 'I', 'know', 'exactly', 'what', 'Trump', 'is', 'up', 'to', '(between', 'the…', 'Just', 'so', 'every', 'true', 'Conservative', 'knows:', '@GOP,', '@NVGOP,', '@AdamLaxalt', '&amp;', 'more', 'are', 'ALL', 'currently', 'stealing', 'the', 'election', 'in', '#Nevada;', 'it', 'appears', '#Arizona', 'is', 'harder', 'to', 'steal', 'than', 'Nevada', '&amp;', '@TheDemocrats', \"don't\", 'want', 'to', 'be', 'down', '51-49', 'going', 'to', '#Georgia', 'run-off.', 'The', 'entire', '#GOP', 'is', 'corrupt.', '#Trump', 'Per', '#donald', '#trump', 'la', 'corsa', 'alla', '#casa', '#bianca', 'si', 'fa', 'più', 'difficile', '-', 'L&amp;apos;Espresso.', 'Leggi', 'su:', 'https://t.co/aXbx1m03OO', 'Report:', 'Democrats', 'Are', 'Heading', 'For', 'The', 'Exits', '#MAGA', '#TRUMP2024', '#Trump', 'https://t.co/qROszLWLpB', 'Biden’s', 'Latest', 'China', 'Action', 'Could', 'Be', 'Against', 'the', 'Law', '#Trump', '#trumpRally', '#DonaldTrump', '#trumpwon', '#TrumpWasRightAboutEverything', '#TRUMP2024ToSaveAmerica', '#MAGA', '#2AMaga', '#ULTRAMAGA', 'https://t.co/JV4ApWd7fl', 'RT', '@QQHaseena:', 'Grappig', 'dat', 'ze', 'doen', 'alsof', 'alleen', '“hackers”', 'de', 'zaak', 'kunnen', 'flessen', 'alsof', 'die', 'hackers', 'alleen', '“ondergronds”', 'vertoeven', '#verkiez…', 'RT', '@MichaelCohen212:', 'The', 'midterm', 'takeaway', 'is', 'the', 'current', 'feud', 'between', '#Trump', 'and', '#Desantis.', 'I', 'know', 'exactly', 'what', 'Trump', 'is', 'up', 'to', '(between', 'the…', 'RT', '@MMohsin39822388:', 'Britain', 'crushed', 'India', 'in', 'the', 'second', 'semi-last', 'of', 'the', 'T20', 'World', 'Cup.', '–', 'https://t.co/zYW4dnMOvv', 'https://t.co/KclEhRWNDD…', 'RT', '@thejoshuablog:', 'Via', '@RawStory:', 'Miami', 'GOP', 'official', 'now', 'says', 'Rubio', 'canvasser', 'lied', 'about', 'being', 'attacked', 'for', 'political', 'beliefs', 'https://t.co/…', 'RT', '@CasMudde:', 'My', 'take', 'on', 'the', '#DeSantis', 'vs.', '#Trump', 'fight', 'that', 'will', 'decide', 'the', 'fate', 'of', 'the', 'Republican', 'Party', 'in', 'the', '2024', 'presidential', 'election…', 'USA', 'does', 'not', 'want', '#Trump', 'anymore', 'Democrats', 'does', 'not', 'want', '#Trump', 'anymore', 'The', 'world', 'does', 'not', 'want', '#Trump', 'anymore', 'and', 'now', 'the', 'GOP', 'does', 'not', 'want', '#Trump', 'anymore', 'Even', 'V.', 'Putin', 'dies', 'not', 'want', '@Trump', 'anymore', 'Still', 'nothing,', 'but', 'he', 'has', '\"good\"', 'reasons', 'to', 'be', 'on', 'a', 'bender.', '#Trump', '#DonTrumpJr', '#TrumpisaNationalDisgrace', '#trump', 'must', 'be', 'indicted', 'now.', '#IndictDonaldTrump', 'this', 'week', 'or', '#Garland', 'must', 'be', 'replaced', 'by', '#President', '#Biden!', 'We', 'cannot', 'wait', 'any', 'longer.', 'No', 'special', 'counsel.', 'RT', '@ElleLaw4:', '@AnnYonan1', 'I', 'never', 'thought', 'anyone', 'could', 'top', '#Trump', 'in', 'the', 'ego', 'Dept', 'but', 'DeSantis', '“God”', 'video', 'made', 'Mary', 'Trump', 'statement', 'right', 'o…', 'Q民主主義の民意の表し方→選挙', 'Q中間選挙の結果→共和党の勝利', '→結果を捻じ曲げフェイクニュースを流す', '#ABC', '#NBC', '#CBS', '#NHK', '#フジテレビ', '#TBS', '#テレビ朝日', '#日本テレビ', '#テレビ東京', 'の連中は二度と報道に関わらない事を希望', '🇺🇸#TRUMP', 'LOVE', '🇯🇵🇺🇸black', 'bullet', 'https://t.co/x3HVu1CJ1p', '↓FakeNews', 'https://t.co/o08xn6YEEU', 'RT', '@ElleLaw4:', '@AnnYonan1', 'I', 'never', 'thought', 'anyone', 'could', 'top', '#Trump', 'in', 'the', 'ego', 'Dept', 'but', 'DeSantis', '“God”', 'video', 'made', 'Mary', 'Trump', 'statement', 'right', 'o…', 'Donald', 'Trump', 'is', 'a', 'drag', 'on', 'the', 'Republican', 'Party.', 'He', 'is', 'becoming', 'known', 'as', 'associating', 'and', 'endorsing', 'candidates', 'who', 'lose,', 'and', 'lose', 'himself.', 'He', 'needs', 'to', 'become', 'disciplined', 'if', 'he', 'wants', 'to', 'be', 'the', 'real', 'leader', 'of', 'the', 'party.', 'I', 'don’t', 'believe', 'he’s', 'capable', 'of', 'discipline.', '#Politics', '#trump', 'Alaska', 'Governor', 'Drops', '25th', 'Amendment', 'On', 'Biden', '#MAGA', '#TRUMP2024', '#Trump', 'https://t.co/GvQ7IXtPQ7', 'Supreme', 'Court', 'Rules', '6-3', 'On', 'Major', 'Case', '#Trump', '#trumpRally', '#DonaldTrump', '#trumpwon', '#TrumpWasRightAboutEverything', '#TRUMP2024ToSaveAmerica', '#MAGA', '#2AMaga', '#ULTRAMAGA', 'https://t.co/SCzgfperJr', 'Random', 'Trump', 'https://t.co/l5PrDVMCWH', '-', '#randomtrump', '#trump', '#donaldtrump', '#giphy', '#gif', '#gifs', 'https://t.co/gwa8NAFHOu', '@laurenboebert', 'JESUS', 'SAVES!', 'So', 'should', 'you.', '#unemployed', 'Also,', 'my', 'god', 'can', 'beat', 'up', 'your', '#god.', 'I', 'posted', 'it', 'on', '#truthSocial,', 'so', 'you', 'know', 'I’m', 'right.', '#laurenboebert', '#maga', '#gop', '#trump', '#jesusSaves', '#jesusIsLord', '😂😅🤣', 'https://t.co/7T43zx3Dud', 'RT', '@Anonymous9775:', 'Die', 'Vaterlands-Verräter-Partei', 'AfD', 'ist', 'nicht', 'nur', 'Putins', 'verlängerter', 'Arm', 'in', '🇩🇪,', 'sondern', 'sie', 'ist', 'auch', 'Trumps', 'Partei', 'in', '🇩🇪…', 'Britain', 'crushed', 'India', 'in', 'the', 'second', 'semi-last', 'of', 'the', 'T20', 'World', 'Cup.', '–', 'https://t.co/zYW4dnMOvv', 'https://t.co/KclEhRWNDD', '#worldnews', '#viral', '#india', '#usa', '#trending', '#business', '#world', '#america', '#chinaa', '#corona', '#trump', '#knowledge', '#covid', '#media', '#politics', '#update', '#pandemic', '#knowledgeispower', 'https://t.co/U77J30NfeY', 'RT', '@ZeeNews:', 'अमेरिकी', 'मध्यावधि', 'चुनाव', 'में', 'ट्रंप', 'की', 'पार्टी', 'को', 'लगा', 'जोर', 'का', 'झटका', '#USElections', '#Trump', '@preetiddahiya', 'https://t.co/jaYaXCefX9', '🔴⏰️Rendez-vous', 'vendredi', '11', 'novembre', '(8h', 'pm', 'Fr', ')', '&amp;(', '2h', 'pm', 'au', 'quebec)', 'pour', 'discuter', 'avec', 'nous', 'et', '@ZeAmericanDream', 'des', 'résultats', '#Midterms2022,', 'la', 'possible', 'candidature', 'de', '#Trump', 'pour', 'les', 'élections', '2024', 'et', 'du', 'rachat', 'de', 'Twitter', 'par', '@elonmusk.', 'https://t.co/hQC2HaqFnl', 'RT', '@CDeplorable:', '#Trump', 'and', '#DeSantis', 'are', 'the', 'future', 'of', 'the', 'Republican', 'Party.', 'Obviously', 'Trump', 'only', 'in', 'the', 'short', 'term.', 'Let’s', 'hope', 'they', 'use', 't…', 'RT', '@MAGAawe:', 'Awe', 'Sadness;', 'yet,', 'Hopefulness', 'from', 'OUR', 'Dear', '#POTUS45❤️🙏🥰🇺🇸,', 'who', 'has/keeps', 'on', 'working', 'sooo', 'hard', 'for', 'us!!!', 'He', '💕', 'us', 'so.', '#DJT', '❤️🙏…', 'RT', '@MichaelCohen212:', 'The', 'midterm', 'takeaway', 'is', 'the', 'current', 'feud', 'between', '#Trump', 'and', '#Desantis.', 'I', 'know', 'exactly', 'what', 'Trump', 'is', 'up', 'to', '(between', 'the…', 'RT', '@Georges73922577:', 'C’est', 'dingue,', 'que', '#Europe', 'ait', 'si', 'peur', 'du', 'retour', 'de', '#Trump', 'qu’ils', 'préfèrent', 'tous', 'un', 'vieux', 'sénile', '🤨', '🇺🇸', '#EtatsUnis2022', '#Midterms2022', ':', 'est-ce', 'que', 'la', 'magie', \"s'essouffle\", 'pour', '#Trump', '?', 'Entrevue', 'avec', '@ChristoCloutier', 'pour', \"l'émission\", '@heuredumonde', 'https://t.co/yTagHWD9OV', 'RT', '@walZemm:', 'Un', 'auditeur', 'de', 'Sud', 'Radio', ':', '«', 'Je', 'haïssais', 'Donald', '#Trump', 'il', 'y', 'a', 'deux', 'ans,', 'et', 'j’ai', 'découvert', 'que', 'sous', 'son', 'mandat,', 'l’économie', 'amér…', '#MidTermElectiions', 'turn', 'out', 'to', 'be', 'a', '#Dems', '#RINOs', 'COUP', 'to', 'get', '#Trump', 'out', 'and', 'stop', 'him', 'running', 'in', '2024', 'and', 'distract', 'from', 'MASSIVE', '#ElectionFraud', 'to', 'try', 'and', 'save', '#Biden', '@TheDemocrats', 'from', 'congressional', 'investigation', '@GOP', '#GOP', '#Republicans', 'RT', '@siriomerenda:', 'quando', 'spendi', '44', 'miliardi', 'di', 'dollari', 'per', 'comprare', 'Twitter...e', 'i', 'Repubblicani', 'non', 'hanno', 'nemmeno', 'la', 'maggioranza', 'al', 'Senato..…', 'the', 'big', 'deal', 'for', 'Trump', 'is,', 'will', 'he', 'survive', 'to', '&gt;', '&gt;', 'the', 'ron', 'desantis', 'hype', '??', '🇺🇸', '.....it', 'seems', 'the', 'Florida', 'Governor', 'has', 'the', 'Midas', 'touch', '👑,', 'if', 'Trump', 'take', 'over', 'desantis,', 'then', 'Trump', 'is', 'Unbreakable', '!!', '\"see', 'you', 'next', 'wenesday\"', '🍿', '#MidtermElections2022', '#MAGA', '#trump', 'https://t.co/dlwkyjru5N', 'Q民主主義の民意の表し方→選挙', 'Q中間選挙の結果→共和党の勝利', '→結果を捻じ曲げフェイクニュースを流す', '#ABC', '#NBC', '#CBS', '#NHK', '#フジテレビ', '#TBS', '#テレビ朝日', '#日本テレビ', '#テレビ東京', 'の連中は二度と報道に関わらない事を希望', '🇺🇸#TRUMP', 'LOVE', '🇯🇵🇺🇸black', 'bullet', 'https://t.co/x3HVu1CJ1p', '↓FakeNews', 'https://t.co/lxGCp3yzHb', 'Biden', 'Loses', 'It', 'After', 'America', 'Stands', 'Up', 'to', 'Him', '#Trump', '#trumpRally', '#DonaldTrump', '#trumpwon', '#TrumpWasRightAboutEverything', '#TRUMP2024ToSaveAmerica', '#MAGA', '#2AMaga', '#ULTRAMAGA', 'https://t.co/AU9SstmdyU', 'After', 'Democrats', 'Go', 'After', 'The', 'Supreme', 'Court', '#MAGA', '#TRUMP2024', '#Trump', 'https://t.co/WSXSqGgjHV', 'RT', '@kk131066:', 'Beware', 'of', '#Hypocrites', 'They', 'will', 'show', 'their', 'true', 'colors', 'when', 'you', 'need', 'their', 'help', 'the', 'most', '#BlackLivesMatter', 'https://t.co/Ay…', 'RT', '@MCJHuisman:', 'Trump', 'bracht', 'vrede', 'en', 'rust', 'in', 'de', 'wereld.', 'Noord-Korea', 'stond', 'open', 'voor', 'een', 'gesprek.', 'Historische', 'vredesakkoorden', 'tussen', 'Israël…', '#RepublicansAreTheProblem', '#January6thHearings', '#VETERANS', '#WomensRights', '#KARILAKE', '#GOPBetrayedAmerica', '#Trump', '#GOPTaxScam', '#HershelWalker', '#RaphaelWarnock', '#Democracy', '#SocialSecurity', '#EvangelicalChristians', 'https://t.co/KSD6LZHNDs', 'RT', '@walZemm:', 'Je', 'suis', 'halluciné', 'par', 'la', 'faiblesse', 'd’analyse', 'd’Anne', 'Sinclair', 'sur', 'Marjorie', '#Green', 'et', 'sur', 'Donald', 'Trump', 'en', 'général…', 'Personnelleme…', 'RT', '@robertwolf32:', 'Rupert', 'Murdoch’s', '@nypost', '&amp;', '@WSJ', '(part', 'of', 'Newscorp)', '&amp;', 'owner', '#FoxNews', 'touting', 'collapse', 'of', '#Trump', 'calling', 'him', 'Biggest', 'Loser…', '@NYDailyNews', '@YoungWidowsHV', '@secupp', 'Hey', '#GOP,', 'You', 'have', 'a', 'Big', '#HumptyTrumpty', 'Problem', 'that', 'You', 'created', 'and', 'now', 'are', 'Stuck', 'with!!!!', '#Trump', '#Republicans', '#Trump', 'has', 'been', 'through', 'the', 'ringer', 'for', 'us', '..,', 'harassed,', 'impeached,', 'family', 'attacked,', 'called', 'every', 'name', 'in', 'the', 'book,', 'lied', 'about,', 'Set', 'up', 'by', '#democrats', '&amp;', '#FBI', 'w/hoax’s', '&amp;', 'still', 'was', 'a', 'great', 'president..is', '#DeSantis', 'ready', 'for', 'that', '🤦🏻\\u200d♂️', 'we', 'need', 'trump', '4', 'more', 'years', 'to', 'clean', 'house!', 'RT', '@thejoshuablog:', 'Via', '@RawStory:', 'Miami', 'GOP', 'official', 'now', 'says', 'Rubio', 'canvasser', 'lied', 'about', 'being', 'attacked', 'for', 'political', 'beliefs', 'https://t.co/…', 'RT', '@MichaelCohen212:', 'The', 'midterm', 'takeaway', 'is', 'the', 'current', 'feud', 'between', '#Trump', 'and', '#Desantis.', 'I', 'know', 'exactly', 'what', 'Trump', 'is', 'up', 'to', '(between', 'the…', 'TRUMP', 'LIE', '#23352', '\"If', 'the', 'radical', 'Democrats', 'take', 'power,', 'they', 'will', 'take', 'a', 'wrecking', 'ball', 'to', 'our', 'economy', 'and', 'to', 'the', 'future', 'of', 'our', 'country.', '...A', 'vote', 'for', 'Democrats', 'is', 'a', 'vote', 'to', 'bring', 'this', 'economic', 'boom', 'crashing', 'down', 'very', 'rapidly.\"', '#TFG', '#Trump', 'RT', '@AlexisBachelay:', 'Parfois,', 'la', 'réalité', 'rejoint', '(heureusement)', 'la', '(bonne)', 'fiction', 'où', 'les', '(vrais)', 'méchants', 'perdent', 'à', 'la', 'fin.', 'Chaque', 'défaite…', 'MAGA', 'Like', 'A', 'Mother', 'Shirt', 'FJB', 'Anti', 'Biden', 'Anti', 'Democrat', 'Pro', 'Trump', 'Graphic', 'Tee', '#Graphic', '#anti', '#pro', '#biden', '#shirt', '#trump', '#Democrat', '#fjb', '#maga', '#ParodyBossDesigns', '#EtsySeller', '👉https://t.co/X5PG75TWfm', 'https://t.co/yFYqvNMAwM', '#election', '#vote', '#politics', '#trump', '#usa', '#news', '#biden', '#elections', '#covid', '#maga', '#democrat', '#america', '#donaldtrump', '#joebiden', '#democrats', '#republican', '#india', '#congress', '#electionday', '#memes', '#conservative', '#democracy', '#bjp', '#president', '#voting', '#voteblue', '#bhfyp', '#republicans', '#love', '#liberal', 'https://t.co/U0YfgIIIeU', '@elonmusk', 'please', 'restore', 'this', 'account', '.', 'We', 'need', 'this', 'right', 'wing', 'Indian', 'lady', 'on', 'Twitter', 'as', 'same', 'as', 'Republican', 'American', 'need', '#Trump', 'https://t.co/cQ7zkGpxlf', '川普要过气了。川宝宝支持的很多人都没有被选上，德桑蒂斯则在佛罗里达大胜，2024年光是共和党内部撕逼就会有好戏看', '#IndictTrumpNow', '#MAGATears', '#leaked', '#Midterms2022', '#Trump', '#Biden', '#DNC', '#GOP', '谁会赢？', 'https://t.co/rqdyfzKsQl', '@watch_union', '#Trump', 'will', 'nun', 'mal', 'keine', '\"Götter\"', 'neben', 'sich', 'haben.', 'RT', '@ConservativeO17:', 'Biden', 'became', 'the', 'most', '\"Absent\"', 'in', 'U.S', 'History', '#Trump', '#trumpRally', '#DonaldTrump', '#trumpwon', '#TrumpWasRightAboutEverythi…', 'RT', '@robertwolf32:', 'Rupert', 'Murdoch’s', '@nypost', '&amp;', '@WSJ', '(part', 'of', 'Newscorp)', '&amp;', 'owner', '#FoxNews', 'touting', 'collapse', 'of', '#Trump', 'calling', 'him', 'Biggest', 'Loser…', 'RT', '@ZeeNews:', 'अमेरिकी', 'मध्यावधि', 'चुनाव', 'में', 'ट्रंप', 'की', 'पार्टी', 'को', 'लगा', 'जोर', 'का', 'झटका', '#USElections', '#Trump', '@preetiddahiya', 'https://t.co/jaYaXCefX9', 'RT', '@EelcoHoecke:', 'Inderdaad', 'Johan', 'Derksen:', '\"als', '#Trump', 'de', 'baas', 'wordt', 'is', 'het', 'gedaan', 'met', 'de', 'wapenleveranties', 'aan', 'Zelensky...\"', '#vandaaginside', 'अमेरिकी', 'मध्यावधि', 'चुनाव', 'में', 'ट्रंप', 'की', 'पार्टी', 'को', 'लगा', 'जोर', 'का', 'झटका', '#USElections', '#Trump', '@preetiddahiya', 'https://t.co/jaYaXCefX9', 'RT', '@ElDiploConoSur:', '#EleccionesEstadosUnidos', '🇺🇸', '|', '⚡️', 'El', 'trumpismo', 'se', 'caracteriza', 'por', 'la', 'instrumentación', 'de', 'las', 'teorías', 'del', 'complot', 'con', 'fin…', 'Q民主主義の民意の表し方→選挙', 'Q中間選挙の結果→共和党の勝利', '→選挙結果を捻じ曲げフェイクニュースを流す', '#ABC', '#NBC', '#CBS', '#NHK', '#フジテレビ', '#TBS', '#テレビ朝日', '#日本テレビ', '#テレビ東京', 'の連中は', '『全員強制排除希望』', '🇺🇸#TRUMP', 'LOVE', '🇯🇵🇺🇸black', 'bullet', 'https://t.co/OcxN8h55QC', '↓FakeNews', 'https://t.co/TRRqDDcaOz', 'Biden', 'became', 'the', 'most', '\"Absent\"', 'in', 'U.S', 'History', '#Trump', '#trumpRally', '#DonaldTrump', '#trumpwon', '#TrumpWasRightAboutEverything', '#TRUMP2024ToSaveAmerica', '#MAGA', '#2AMaga', '#ULTRAMAGA', 'https://t.co/FHcAQcpcxl', 'Ben', 'Carson', 'Goes', 'After', 'Biden', 'And', 'His', 'Democrats', '#MAGA', '#TRUMP2024', '#Trump', 'https://t.co/mHF79k2z0a', '@charliekirk11', 'But', 'we', 'get', 'it.', 'Your', 'orange', 'idol', '#Trump', 'has', 'been', 'the', 'losing', 'factor', 'in', 'the', 'last', 'two', 'days;', 'The', 'only', 'Ex', '-', 'EX', '-', 'President', 'to', 'lose', 'coast', 'to', 'coast', 'without', 'even', 'being', 'in', 'any', 'of', 'the', 'races.', 'It', 'hurts.', 'We', 'get', 'it.', 'His', 'time', 'is', 'done.', 'As', 'is', 'yours.', '@LordOfBlast1', '@metalqueen92', '@catturd2', 'Did', 'you', 'miss', '#Trump', '(R)', 'appointing', '#Guaido', 'president', 'of', '#Venezuela?', '&amp;', 'that', 'the', 'taxpayers', 'flew', 'him', 'to', 'DC', 'for', 'SOTU', 'where', '#Pelosi', '(D)', '&amp;', 'virtually', 'all', '-', 'bipartisan', '--politicians', 'gave', 'him', 'a', 'standing', 'ovation?', 'This', 'was', 'when', 'Pelosi', 'tore', 'up', \"Trump's\", 'speech.', 'RT', '@Wiffmeister:', '#IDGAF', 'if', 'the', '#GOP', 'is', 'ready', 'to', 'move', 'on', 'from', '#Trump', 'We’re', 'not!#LockHimUp', '#ComplicitGOP', 'https://t.co/ilV0W8APOp', 'Donald', 'Trump', '#trumpRally', '#Trump', 'He', 'really', 'does', 'need', 'to', 'be', 'banged', 'up', 'in', 'Prison', 'https://t.co/HEOPuW0kid', 'RT', '@djb21212:', '@panto_james', '@ChuckCallesto', '#FakeTrumpers.', 'They', \"don't\", 'care', 'about', 'this', 'war', 'to', 'save', 'our', 'country.', 'Just', 'easy', 'clout', 'by', 'riding', 'the…', 'RT', '@kk131066:', '#truthwins', 'only', 'if', 'people', 'do', 'the', 'right', 'thing', 'If', 'people', 'do', 'nothing,', '#Fascism', 'wins', 'https://t.co/b7CnePW620', '#Biden', '#Trump', '#Fa…', '@OGBTC', 'Make', '#trump', 'president', 'again', 'RT', '@realmagacoin:', 'MAGA', 'Coins', '|', 'U.S.', 'Constitution', 'Token,', '$CONST.', 'There', 'will', 'only', 'ever', 'be', '9,171,787', 'Constitution', 'Tokens', 'to', 'represent', 'Septe…', 'RT', '@MCJHuisman:', 'Trump', 'bracht', 'vrede', 'en', 'rust', 'in', 'de', 'wereld.', 'Noord-Korea', 'stond', 'open', 'voor', 'een', 'gesprek.', 'Historische', 'vredesakkoorden', 'tussen', 'Israël…', 'Content', 'analysis:', 'This', 'article', 'scores', '73/100.', 'The', 'complete', 'report', 'can', 'be', 'viewed', 'here:', 'https://t.co/00rAqM6bf1', \"(I'm\", 'a', 'bot)', '#Trump', '#Republicans', 'https://t.co/Aehr5o2Bid', \"It's\", 'a', 'wonderful', 'dream...', '&amp;The', 'way', 'things', 'should', 'be.', 'But', 'the', 'Gop,', 'especially', 'the', '#MAGA,', 'ClownCar', 'Crazy,', 'White', 'Nationalist', '@HouseGop', 'wing-', 'Have', 'chosen', 'to', 'go', 'down', 'a', 'very', 'dark', 'Road.', 'They’ve', 'lost', 'their', 'way,', 'And', 'sold', 'their', 'souls', 'to', '#trump&amp;', 'HATE,', 'Violence&amp;', 'Vendettas.', 'https://t.co/VVnydA2Ro2', 'Democrat', 'Senator', 'Arrested', 'On', 'Major', 'Charges', '#MAGA', '#TRUMP2024', '#Trump', 'https://t.co/R3Z2pBoYTs', 'Durham’s', 'Sussmann', 'Trial', 'Gave', 'Trump', 'a', 'Boost', '#Trump', '#trumpRally', '#DonaldTrump', '#trumpwon', '#TrumpWasRightAboutEverything', '#TRUMP2024ToSaveAmerica', '#MAGA', '#2AMaga', '#ULTRAMAGA', 'https://t.co/kLJPImkhsS', 'Understand', 'this', 'very', 'clearly.', \"#EschewEstablishmentRINO's\", '+', \"D's\", 'hate', '#Trump', 'because', \"he's\", '\"anti-THEIR', 'WAY\",', 'a', 'man', 'who', 'fought', 'hard', 'against', 'their', 'backdoor,', 'filthy,', 'rotten', 'to', 'their', 'core', 'machinations', '&amp;', 'was', 'persecuted', 'like', 'no', 'other', 'for', 'it!', 'Trust', 'NO', 'ACTOR', 'backed', 'by', \"RINO's!\", '#Midterms', 'https://t.co/jjb4hPyXdZ', 'Content', 'analysis:', 'This', 'article', 'scores', '83/100.', 'The', 'complete', 'report', 'can', 'be', 'viewed', 'here:', 'https://t.co/ubpbM5BId3', \"(I'm\", 'a', 'bot)', '#Trump', '#Democrats', 'https://t.co/WtPshXqQZS', 'RT', '@GrantWehrli:', 'The', 'same', 'people', 'who', 'preach', '#diversity', 'are', 'the', 'same', 'people', 'who', 'think', 'all', '#Republicans', 'are', 'MAGA', '#trump', 'supporters.', '1)', 'Free', 'y…', 'RT', '@themagacancer:', 'Senators', 'want', 'Donald', 'Trump', 'to', 'go', 'away,', 'says', 'pollster', 'Frank', 'Luntz', 'https://t.co/cVJpDoPtQh', '#trumpcrimefamily', '#donaldtrump…', 'The', 'same', 'people', 'who', 'preach', '#diversity', 'are', 'the', 'same', 'people', 'who', 'think', 'all', '#Republicans', 'are', 'MAGA', '#trump', 'supporters.', '1)', 'Free', 'your', 'mind', 'And', '2)', 'that’s', 'simply', 'not', 'true', '@nelsonrbonilla', '@SebGorka', '#trump', 'is', 'a', 'laughing', 'stock', 'every', 'time', 'he', 'opens', 'his', 'mouth.', 'He', 'did', 'nothing', 'to', 'help', 'Desantis', 'and', 'has', 'warned', 'him', 'not', 'to', 'run', 'for', 'POTUS.', 'Desantis', 'is', 'a', 'product', 'of', 'ivy', 'school', 'and', 'has', 'won', 'many', 'medals', 'for', 'bravery', 'while', 'Captain', \"Bonespurs'\", 'daddy', 'paid', 'for', 'him', 'to', 'avoid', 'service.', 'Coward!', 'RT', '@kk131066:', 'Politicians', 'who', 'refuse', 'to', 'learn', 'from', 'their', 'mistakes', '&amp;', 'ignore', 'the', 'lessons', 'of', 'history', 'are', 'INHERENTLY', 'DUMB', 'Voters,', 'your', 'childre…', 'RT', '@MichaelCohen212:', 'The', 'midterm', 'takeaway', 'is', 'the', 'current', 'feud', 'between', '#Trump', 'and', '#Desantis.', 'I', 'know', 'exactly', 'what', 'Trump', 'is', 'up', 'to', '(between', 'the…', 'RT', '@MichaelCohen212:', 'The', 'midterm', 'takeaway', 'is', 'the', 'current', 'feud', 'between', '#Trump', 'and', '#Desantis.', 'I', 'know', 'exactly', 'what', 'Trump', 'is', 'up', 'to', '(between', 'the…', 'Q民主主義の民意の表し方→選挙', 'Q中間選挙の結果→共和党の勝利', '→選挙結果を捻じ曲げフェイクニュースを流す', '#ABC', '#NBC', '#CBS', '#NHK', '#フジテレビ', '#TBS', '#テレビ朝日', '#日本テレビ', '#テレビ東京', 'の連中は', '『全員強制排除希望』', '🇺🇸#TRUMP', 'LOVE', '🇯🇵🇺🇸black', 'bullet', 'https://t.co/OcxN8h55QC', '↓FakeNews', 'https://t.co/TYAV15QZW7', 'RT', '@robertwolf32:', 'Rupert', 'Murdoch’s', '@nypost', '&amp;', '@WSJ', '(part', 'of', 'Newscorp)', '&amp;', 'owner', '#FoxNews', 'touting', 'collapse', 'of', '#Trump', 'calling', 'him', 'Biggest', 'Loser…', 'There', 'was', 'no', 'Red', 'Wave', 'in', 'Mid', 'terms', 'because', 'all', 'their', 'voters', 'died', 'of', 'Covid.', '#Midterms2022', '#midterms', '#Biden', '#democrats', '#republicans', '#trump', '#election2022', 'RT', '@amirmehdipuor:', 'ضرب', 'و', 'شتم', 'و', 'شلیک', 'از', 'نزدیک', 'توسط', 'وحوش', 'جمهوری', 'اسلامی', 'تروریست', 'به', 'پیکر', 'یکی', 'از', 'انقلابیون', 'در', 'تهران', 'نشر', 'جنایت', 'ثبت', 'شده', 'وحوش', 'جمهور…', 'Senators', 'want', 'Donald', 'Trump', 'to', 'go', 'away,', 'says', 'pollster', 'Frank', 'Luntz', 'https://t.co/cVJpDoPtQh', '#trumpcrimefamily', '#donaldtrump', '#trump', 'RT', '@SudRadio:', '🇺🇸#Midterms2022', ':', \"l'analyse\", 'des', 'premiers', 'résultats', 'en', 'direct', 'de', 'Washington', '🗣️@andrebercoff', ':', '\"Sur', 'les', '183', 'gouverneurs', 'qui', 'a…']\n"
     ]
    }
   ],
   "source": [
    "# open the myData.pickle file and store its contents into variable 'words'\n",
    "\n",
    "with open(filepath, \"rb\") as f:\n",
    "    words = pickle.load(f)\n",
    "print(words)"
   ]
  },
  {
   "cell_type": "markdown",
   "metadata": {},
   "source": [
    "### 3.2 Using prettytable to display tuples in a nice way\n",
    "\n"
   ]
  },
  {
   "cell_type": "code",
   "execution_count": 15,
   "metadata": {},
   "outputs": [
    {
     "name": "stdout",
     "output_type": "stream",
     "text": [
      "+--------+-------+\n",
      "| Words  | Count |\n",
      "+--------+-------+\n",
      "| #Trump |    60 |\n",
      "| the    |    50 |\n",
      "| RT     |    46 |\n",
      "| to     |    41 |\n",
      "| is     |    29 |\n",
      "| Trump  |    24 |\n",
      "| of     |    22 |\n",
      "| in     |    19 |\n",
      "| and    |    18 |\n",
      "| a      |    18 |\n",
      "+--------+-------+\n"
     ]
    }
   ],
   "source": [
    "from prettytable import PrettyTable\n",
    "\n",
    "\n",
    "pt = PrettyTable(field_names=['Words', 'Count'])\n",
    "c = Counter(words)\n",
    "[ pt.add_row(kv) for kv in c.most_common()[:10] ]\n",
    "pt.align[\"Words\"], pt.align['Count'] = 'l', 'r' # Set column alignment\n",
    "print(pt) "
   ]
  },
  {
   "cell_type": "markdown",
   "metadata": {},
   "source": [
    "### 3.3 Calculating lexical diversity for tweets \n",
    "*(from Example 1-9 in Mining the Social Web)*:"
   ]
  },
  {
   "cell_type": "code",
   "execution_count": 17,
   "metadata": {},
   "outputs": [
    {
     "name": "stdout",
     "output_type": "stream",
     "text": [
      "0.5053763440860215\n",
      "0.09462365591397849\n"
     ]
    }
   ],
   "source": [
    "# Define a function for computing lexical diversity\n",
    "def lexical_diversity(tokens):\n",
    "    return 1.0*len(set(tokens))/len(tokens)\n",
    "\n",
    "# Define a function for computing the average number of words per tweet\n",
    "def average_words(statuses):\n",
    "    total_words = sum([ len(s.split()) for s in status_texts ])\n",
    "    return 1.0*total_words/len(statuses) \n",
    "\n",
    "# Let's use these functions:\n",
    "\n",
    "print(lexical_diversity(words))\n",
    "print(average_words(words))"
   ]
  },
  {
   "cell_type": "markdown",
   "metadata": {},
   "source": [
    "### Task 5: What do the printed numbers indicate? Try to explain them.\n",
    "\n",
    "The first number tells us that for every two words, one word is unique. Or in other words a ratio of 1 to 2.\n",
    "\n",
    "We rewrote the line of code for the second number, in doing so, the second numbers tells us the average word per status. So on average people used 16 word to write about the topic of #throwbackthursday.\n"
   ]
  },
  {
   "cell_type": "markdown",
   "metadata": {},
   "source": [
    "### 3.4 Looking up users who have retweeted a status \n",
    "*(from Example 1-11 in Mining the Social Web):*"
   ]
  },
  {
   "cell_type": "code",
   "execution_count": 18,
   "metadata": {
    "scrolled": true
   },
   "outputs": [
    {
     "name": "stdout",
     "output_type": "stream",
     "text": [
      "Users who've retweeted the tweet:\n",
      "\n",
      "[Response(data=[<User id=289180596 name=mattias username=mblandnc>, <User id=1225532665849405448 name=connor username=Connormccoolman>, <User id=1198130211226898432 name=\"Robert Mueller\" username=DarnMilk>, <User id=2382629469 name=Coy Holt username=coy_holt>, <User id=1184868443679526913 name=HarleyBee 🐝 username=QueenHarleyBee>, <User id=54946944 name=Marko ⭐️⭐️⭐️⭐️⭐️⭐️ username=MARKOPOLO100>, <User id=4061282055 name=Samuel Kutzer username=SHAK_08>, <User id=279634273 name=Sebastian username=saabooboo>, <User id=15712221 name=smirnoff ice enjoyer username=notJacksonfish>, <User id=329920551 name=Martinez username=MartinFaced>, <User id=3883486521 name=Haha Lexis username=cestkisa>, <User id=263972455 name=Ernesto Garza username=elchivo72>, <User id=2263463959 name=elon’s musk 🏳️‍🌈 username=abrewer18>, <User id=57758833 name=Smitty Werbenmanjensen username=ChrEEstosK>, <User id=1516575908 name=c🦃rm🎄c username=McCormacSpices>, <User id=776049844582363137 name=Trent Mahomie username=MahomieTrent>, <User id=909228187 name=chris Mcelfresh username=ChrisMcElfresh1>, <User id=315356135 name=honest caruso fan username=Deonpurpkoolaid>, <User id=3344925987 name=𖤐 Head Honcho 𖤐 username=headhonchoeyad>, <User id=3177249038 name=DELL username=dellwonj>, <User id=451321010 name=John_Titor username=_Philosophried>, <User id=2412605557 name=Moleezy🍩💐❤️ username=MoleezyTweets>, <User id=2612883028 name=Miguel Rodriguez username=miguelfinally>, <User id=912515976 name=Anthony username=apleasant24>, <User id=1543951860 name=Box Carbonie username=westys_wang>, <User id=911899652 name=German Acosta 🐝 username=german10239>, <User id=872856216 name=Smoketsu username=TheDrtyCount420>, <User id=434415503 name=Handsome Bartender username=ZAKM8>, <User id=409378122 name=mr.milton username=FantasticMrAlba>, <User id=751040934566096896 name=no para no para username=beerreunno>, <User id=1281691740 name=alex username=yeahokayalex>, <User id=490685287 name=rick rolled piss boy username=Anthony__Eaton>, <User id=263357010 name=Jordan Lavender username=JordFro>, <User id=50721811 name=Ignacio Alcuri username=ignacioalcuri>, <User id=1048811233321930753 name=Jer\"Z\"Boi username=Marty_McSwag>, <User id=1181408011 name=Mako Mori username=makomori0>, <User id=437507293 name=oliver smith username=oliversmith36>, <User id=804125353878769664 name=Authoritarian Regime Admirer username=serge_gainsbrah>, <User id=2256991345 name=Jake username=henkemcspanky>, <User id=584811469 name=Angelica Hernandez username=SillyNerd14>, <User id=40436554 name=Marc username=DongQuixote>, <User id=787763047 name=Ali Amiri username=expritel>, <User id=3127684577 name=Netan Sansara DSC (not a parody) username=SkroSalah>, <User id=3379085104 name=Dennis username=Dennis_BurnHall>, <User id=1166811230511587328 name=Lagrange 5 username=06rPilot>, <User id=262562037 name=SHANE WATSON username=TheShaneWatson>, <User id=710604361815236608 name=I WILL KILL YOU JARED LETO username=t0nyahard0n>, <User id=1075081591 name=avon username=avonwoodgrain>, <User id=902384485 name=Alex username=ajsplaine>, <User id=928406268217348096 name=. username=colddude123>, <User id=141866886 name=Jim “Butters” Swanson username=konstamadianos>, <User id=1376958812 name=MohZuluFree🐝 username=Mohzulufree>, <User id=711153763 name=balrog username=GrapeEnjoyer>, <User id=1208579779328385024 name=Timothy username=somee_person>, <User id=64822720 name=Kip Dynamite username=kevinThoyt>, <User id=2457934788 name=użytkownik username=dubspl>, <User id=1105764978 name=Chris Wolfe username=chrisdwolfe>, <User id=1003331170010951680 name=jonny snows username=jjjoro_>, <User id=741494134674853888 name=dude, username=lemonist666>, <User id=54817454 name=( •_•) username=iSayDumbShit>, <User id=729125465529552897 name=SoConfuse username=SoConfuse>, <User id=482393835 name=ivan username=ivnxnuno>, <User id=56500975 name=D username=realnamedick>, <User id=706926134953385984 name=GUILLEN⚡️ username=aquillen95>, <User id=2569680346 name=Jaime Daniel username=jayvillawolf>, <User id=2565335717 name=michael m penis username=michaelmpenis>, <User id=511955089 name=B username=djbighugz>, <User id=3045031701 name=Rev. Rictor Von Poofton 🇺🇦 🇵🇸 🇦🇲 username=R_VonPoofton>, <User id=981902629 name=Danny 🌹 username=Invaderfrog1347>, <User id=309305950 name=Michael Southern username=M_Southern_>, <User id=909604438322458626 name=🚬 username=lilsmokebreak>, <User id=382502868 name=Chuck Finley username=DigitalJedi2173>, <User id=1166839757864701954 name=Mark username=markis_maximus>, <User id=904086082546843648 name=Tyler Gibbons username=Gibbowns>, <User id=177324152 name=Joey Albanese username=Joey_Albs>, <User id=61652409 name=Alejandra♡🥀 username=Hello_Allieee>, <User id=116328631 name=lil succubus username=antisuccubus>, <User id=1180180745601597445 name=sir prize username=RudyAzcona>, <User id=457298402 name=1/1 Capital 🅿️ 👨🏻‍🚀 username=_PleasureP>, <User id=515094479 name=Joe username=JabroniMurph>], includes={}, errors=[], meta={'result_count': 80, 'next_token': '7140dibdnow9c7btw452fmh8ost58unnv5eyuor56q2bb'})]\n"
     ]
    }
   ],
   "source": [
    "retweets = client.get_retweeters(id=1224140327688249349) # Get the original tweet id for a tweet from its retweeted_status node and insert it here\n",
    "print(\"Users who've retweeted the tweet:\\n\")\n",
    "print([retweets])"
   ]
  },
  {
   "cell_type": "markdown",
   "metadata": {},
   "source": [
    "### Task 6 (advanced)\n",
    "\n",
    "If you have a Twitter account with a nontrivial number of tweets, request your historical tweet archive from your account settings and analyze it. \\\n",
    "The export of your account data includes files organized by time period in a convenient JSON format. See the README.txt file included in the downloaded archive for more details. \n",
    "\n",
    "\n",
    "\n",
    "What are the most common terms that appear in your tweets? \\\n",
    "Who do you retweet the most often? \\\n",
    "How many of your tweets are retweeted (and why do you think this is the case)?"
   ]
  },
  {
   "cell_type": "markdown",
   "metadata": {},
   "source": [
    "### 3.6 Plotting frequencies of words \n",
    "*(from Example 1-12 in Mining the Social Web)*\n",
    "\n",
    "\n",
    "In the previous exercises we have been looking at the text from the tweets, but when you retrieved the results, you retrieved much more information about the tweets, such as the username of the person who shared this tweet with the world. \n",
    "\n",
    "\n",
    "You can use this information to find out who retweets whom in our examples. "
   ]
  },
  {
   "cell_type": "code",
   "execution_count": 98,
   "metadata": {},
   "outputs": [],
   "source": [
    "word_counts = sorted(Counter(words).values(), reverse=True)\n",
    "import matplotlib.pyplot as plt\n",
    "plt.loglog(word_counts)\n",
    "plt.ylabel(\"Freq\")\n",
    "plt.xlabel(\"Word Rank\")\n",
    "plt.show()"
   ]
  },
  {
   "cell_type": "markdown",
   "metadata": {},
   "source": [
    "### Generating histograms of words, screen names, and hashtags \n",
    "*(from Example 1-13 in Mining the Social Web):*"
   ]
  },
  {
   "cell_type": "code",
   "execution_count": 102,
   "metadata": {},
   "outputs": [],
   "source": [
    "c = Counter(words)\n",
    "plt.hist(c.values())\n",
    "    \n",
    "plt.title(\"\")\n",
    "plt.ylabel(\"Number of items in bin\")\n",
    "plt.xlabel(\"Bins (number of times an item appeared)\")\n",
    "    \n",
    "plt.figure()"
   ]
  },
  {
   "cell_type": "code",
   "execution_count": null,
   "metadata": {},
   "outputs": [],
   "source": [
    "# extra: seaborn plots with a one-liner.\n",
    "!pip install seaborn\n",
    "import seaborn as sns\n",
    "\n",
    "sns.distplot(word_counts, kde=False, rug=True)\n"
   ]
  }
 ],
 "metadata": {
  "kernelspec": {
   "display_name": "Python 3 (ipykernel)",
   "language": "python",
   "name": "python3"
  },
  "language_info": {
   "codemirror_mode": {
    "name": "ipython",
    "version": 3
   },
   "file_extension": ".py",
   "mimetype": "text/x-python",
   "name": "python",
   "nbconvert_exporter": "python",
   "pygments_lexer": "ipython3",
   "version": "3.8.10"
  }
 },
 "nbformat": 4,
 "nbformat_minor": 2
}
